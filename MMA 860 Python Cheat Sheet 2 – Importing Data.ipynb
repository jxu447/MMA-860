{
 "cells": [
  {
   "cell_type": "markdown",
   "metadata": {},
   "source": [
    "For many of our activities we will import data into Python from Excel or text files.  Naturally, there are many ways to import data into Python from other sources as well. This cheat sheet will focus on Excel/text file imports, and give some direction on other files (e.g., SAS, SPSS, etc.).  To do this, you must know where your data is located, both in terms of the file, its location, and the tab upon which the data is found if it’s in Excel.  For this exercise download the 'MMA_860_Grocery_Data.csv’ file available on the portal under Session 1, and save it to a folder named 'Data' that is in the same directory as this file."
   ]
  },
  {
   "cell_type": "markdown",
   "metadata": {},
   "source": [
    "# Importing CSV Files - Intro to Pandas"
   ]
  },
  {
   "cell_type": "markdown",
   "metadata": {},
   "source": [
    "Let’s start with a CSV file – the easiest way to get data into Python as well as most data processing tools. We will be using a library called \"Pandas\" to read in the file. We will use the appropriately named function, $\\text{read_csv}$. This has many arguments, but we will only need the filepath and index_col arguments. First things first, we need to import the library."
   ]
  },
  {
   "cell_type": "code",
   "execution_count": null,
   "metadata": {},
   "outputs": [],
   "source": [
    "#We must first import the Pandas library. We will shortcut it to \"pd\".\n",
    "import pandas as pd\n",
    "\n",
    "# The following code will process the current filepath for the dataset\n",
    "\n",
    "#This imports the necessary libraries\n",
    "import os\n",
    "from os.path import curdir\n",
    "\n",
    "'''\n",
    "The os.path.join function is used to merge strings (text) that correspond to\n",
    "file and directory names together to a viable file path for your Operating\n",
    "System. I printed the result to give more clarity.\n",
    "'''\n",
    "csv_path = os.path.join(curdir,'Data','MMA_860_Grocery_Data.csv')\n",
    "print(csv_path)"
   ]
  },
  {
   "cell_type": "markdown",
   "metadata": {},
   "source": [
    "Read more about the os.path.join method here:\n",
    "https://www.geeksforgeeks.org/python-os-path-join-method/"
   ]
  },
  {
   "cell_type": "code",
   "execution_count": null,
   "metadata": {},
   "outputs": [],
   "source": [
    "#Passing the appropriate arguments, we can import the data from a csv.\n",
    "df = pd.read_csv(csv_path, header='infer', index_col='Obs')\n",
    "\n",
    "#The head function will output the top 5 rows \n",
    "df.head()"
   ]
  },
  {
   "cell_type": "code",
   "execution_count": null,
   "metadata": {},
   "outputs": [],
   "source": [
    "#Alternatively, you can pass an integer to the function\n",
    "df.head(3)"
   ]
  },
  {
   "cell_type": "markdown",
   "metadata": {},
   "source": [
    "## Notes on Parameters"
   ]
  },
  {
   "cell_type": "markdown",
   "metadata": {},
   "source": [
    "1) The first argument of $\\text{read_csv}$ is the file path. You will need to keep it in a folder named \"Data\" that is in the same folder as this file. If you choose to hard code a filepath, you will need to identify where the file is. Note that if you are on Windows, folder structures must be separated by 2 back slashes (\\\\) or one forward slash (/). Mac users can use a single back slash.\n",
    "\n",
    "2)\tThe \"header\" argument is set to 'infer' by default. I’ve included it for reference. This has Python infer whether there are column_names in the CSV. If your data does not include column headers, set this argument to None. In such a case, you can pass the header names to the \"names\" argument.\n",
    "\n",
    "3) The \"index_col\" argument is used to indicate which column is the index or key. Try running the function without setting this parameter and seeing what happens.\n",
    "\n",
    "4) You can find out more about the different possible $\\text{read_csv}$ arguments at the following link:\n",
    "https://pandas.pydata.org/pandas-docs/stable/reference/api/pandas.read_csv.html"
   ]
  },
  {
   "cell_type": "markdown",
   "metadata": {},
   "source": [
    "The file is imported into a Pandas Dataframe which is assigned to the $\\text{df}$ variable. Any changes or transformations you make to what is assigned to $\\text{df}$ will not be reflected on the original file. We will learn how to write our changes to a file later in the course."
   ]
  },
  {
   "cell_type": "markdown",
   "metadata": {},
   "source": [
    "# Importing Excel Files"
   ]
  },
  {
   "cell_type": "markdown",
   "metadata": {},
   "source": [
    "The next most common file type you will encounter is likely to be Excel files. Fortunately, Pandas has a function called $\\text{read_excel}$ which is very similar, syntatically, to $\\text{read_csv}$. \n",
    "\n",
    "There are a few differences in the optional arguments, such as one for indicating which sheet should be imported. The sheet can be specified by numeric index - 0 is the first sheet, 1 is the second and so on. Alternatively, you can pass the worksheet name."
   ]
  },
  {
   "cell_type": "code",
   "execution_count": null,
   "metadata": {},
   "outputs": [],
   "source": [
    "'''\n",
    "We repeat the above procedure, substituting the excel file name into the\n",
    "join arguments and using the read_excel function instead.\n",
    "'''\n",
    "xl_path = os.path.join(curdir,'Data',\"MMA_860_Grocery_Data.xlsx\")\n",
    "df_xl = pd.read_excel(xl_path,sheet_name=0,header='infer',index_col=\"Obs\")\n",
    "df_xl.head()"
   ]
  },
  {
   "cell_type": "markdown",
   "metadata": {},
   "source": [
    "Similar to above, you can find out more about the $\\text{read_excel}$ function at the following link:\n",
    "\n",
    " https://pandas.pydata.org/pandas-docs/stable/reference/api/pandas.read_excel.html"
   ]
  },
  {
   "cell_type": "markdown",
   "metadata": {},
   "source": [
    "## Some Pandas Tools "
   ]
  },
  {
   "cell_type": "markdown",
   "metadata": {},
   "source": [
    "Now that we have data imported, let’s use some Pandas tools to understand it a little bit better. We have already used $\\text{df.head()}$ to get a quick preview of our table. Run and discuss the following:"
   ]
  },
  {
   "cell_type": "code",
   "execution_count": null,
   "metadata": {},
   "outputs": [],
   "source": [
    "df.describe()"
   ]
  },
  {
   "cell_type": "code",
   "execution_count": null,
   "metadata": {},
   "outputs": [],
   "source": [
    "df.tail()"
   ]
  },
  {
   "cell_type": "code",
   "execution_count": null,
   "metadata": {},
   "outputs": [],
   "source": [
    "df.dtypes"
   ]
  },
  {
   "cell_type": "markdown",
   "metadata": {},
   "source": [
    "## Other Import Methods"
   ]
  },
  {
   "cell_type": "markdown",
   "metadata": {},
   "source": [
    "There are many methods you can use to bring data into pandas from a variety of sources such as SQL tables, HTML, JSON, SAS, and more! If you are viewing this on Jupyter, type in \"pd.read\" in the code cell below and press TAB on your keyboard to see just how many import functions Pandas has."
   ]
  },
  {
   "cell_type": "code",
   "execution_count": null,
   "metadata": {},
   "outputs": [],
   "source": []
  }
 ],
 "metadata": {
  "kernelspec": {
   "display_name": "Python 3 (ipykernel)",
   "language": "python",
   "name": "python3"
  },
  "language_info": {
   "codemirror_mode": {
    "name": "ipython",
    "version": 3
   },
   "file_extension": ".py",
   "mimetype": "text/x-python",
   "name": "python",
   "nbconvert_exporter": "python",
   "pygments_lexer": "ipython3",
   "version": "3.8.15"
  }
 },
 "nbformat": 4,
 "nbformat_minor": 2
}
