{
 "cells": [
  {
   "cell_type": "markdown",
   "id": "87fe654a",
   "metadata": {},
   "source": [
    "# n0: getting started"
   ]
  },
  {
   "cell_type": "markdown",
   "id": "e739850b",
   "metadata": {},
   "source": [
    "Here is a getting started guide for data visualizations in Python.\n",
    "\n",
    "The first cell imports the Grocery Store Data as long as it is saved in Current Directory/Data. So, when you download and save this file, make sure there is a 'Data' folder in the same place! "
   ]
  },
  {
   "cell_type": "code",
   "execution_count": 2,
   "id": "27cb4a09",
   "metadata": {},
   "outputs": [
    {
     "data": {
      "text/html": [
       "<div>\n",
       "<style scoped>\n",
       "    .dataframe tbody tr th:only-of-type {\n",
       "        vertical-align: middle;\n",
       "    }\n",
       "\n",
       "    .dataframe tbody tr th {\n",
       "        vertical-align: top;\n",
       "    }\n",
       "\n",
       "    .dataframe thead th {\n",
       "        text-align: right;\n",
       "    }\n",
       "</style>\n",
       "<table border=\"1\" class=\"dataframe\">\n",
       "  <thead>\n",
       "    <tr style=\"text-align: right;\">\n",
       "      <th></th>\n",
       "      <th>Grocery_Bill</th>\n",
       "      <th>Family_Income</th>\n",
       "      <th>Family_Size</th>\n",
       "      <th>N_Vehicles</th>\n",
       "      <th>Distance_to_Store</th>\n",
       "      <th>Vegetarian</th>\n",
       "      <th>N_Children</th>\n",
       "      <th>Family_Pet</th>\n",
       "      <th>N_Adults</th>\n",
       "    </tr>\n",
       "    <tr>\n",
       "      <th>Obs</th>\n",
       "      <th></th>\n",
       "      <th></th>\n",
       "      <th></th>\n",
       "      <th></th>\n",
       "      <th></th>\n",
       "      <th></th>\n",
       "      <th></th>\n",
       "      <th></th>\n",
       "      <th></th>\n",
       "    </tr>\n",
       "  </thead>\n",
       "  <tbody>\n",
       "    <tr>\n",
       "      <th>1</th>\n",
       "      <td>357.73</td>\n",
       "      <td>142141</td>\n",
       "      <td>4</td>\n",
       "      <td>3</td>\n",
       "      <td>15</td>\n",
       "      <td>0</td>\n",
       "      <td>2</td>\n",
       "      <td>1</td>\n",
       "      <td>2</td>\n",
       "    </tr>\n",
       "    <tr>\n",
       "      <th>2</th>\n",
       "      <td>276.84</td>\n",
       "      <td>145916</td>\n",
       "      <td>2</td>\n",
       "      <td>1</td>\n",
       "      <td>4</td>\n",
       "      <td>0</td>\n",
       "      <td>0</td>\n",
       "      <td>0</td>\n",
       "      <td>2</td>\n",
       "    </tr>\n",
       "    <tr>\n",
       "      <th>3</th>\n",
       "      <td>197.92</td>\n",
       "      <td>86185</td>\n",
       "      <td>1</td>\n",
       "      <td>2</td>\n",
       "      <td>14</td>\n",
       "      <td>0</td>\n",
       "      <td>0</td>\n",
       "      <td>0</td>\n",
       "      <td>1</td>\n",
       "    </tr>\n",
       "    <tr>\n",
       "      <th>4</th>\n",
       "      <td>315.75</td>\n",
       "      <td>145998</td>\n",
       "      <td>3</td>\n",
       "      <td>1</td>\n",
       "      <td>8</td>\n",
       "      <td>0</td>\n",
       "      <td>1</td>\n",
       "      <td>0</td>\n",
       "      <td>2</td>\n",
       "    </tr>\n",
       "    <tr>\n",
       "      <th>5</th>\n",
       "      <td>202.89</td>\n",
       "      <td>79341</td>\n",
       "      <td>1</td>\n",
       "      <td>2</td>\n",
       "      <td>19</td>\n",
       "      <td>1</td>\n",
       "      <td>0</td>\n",
       "      <td>0</td>\n",
       "      <td>1</td>\n",
       "    </tr>\n",
       "  </tbody>\n",
       "</table>\n",
       "</div>"
      ],
      "text/plain": [
       "     Grocery_Bill  Family_Income  Family_Size  N_Vehicles  Distance_to_Store  \\\n",
       "Obs                                                                            \n",
       "1          357.73         142141            4           3                 15   \n",
       "2          276.84         145916            2           1                  4   \n",
       "3          197.92          86185            1           2                 14   \n",
       "4          315.75         145998            3           1                  8   \n",
       "5          202.89          79341            1           2                 19   \n",
       "\n",
       "     Vegetarian  N_Children  Family_Pet  N_Adults  \n",
       "Obs                                                \n",
       "1             0           2           1         2  \n",
       "2             0           0           0         2  \n",
       "3             0           0           0         1  \n",
       "4             0           1           0         2  \n",
       "5             1           0           0         1  "
      ]
     },
     "execution_count": 2,
     "metadata": {},
     "output_type": "execute_result"
    }
   ],
   "source": [
    "import pandas as pd\n",
    "import os\n",
    "from os.path import curdir\n",
    "\n",
    "xl_path = os.path.join(curdir,'Data',\"MMA_860_Grocery_Data.xlsx\")\n",
    "df_xl = pd.read_excel(xl_path,sheet_name=0,header='infer',index_col=\"Obs\")\n",
    "df_xl.head()"
   ]
  },
  {
   "cell_type": "markdown",
   "id": "cdddec08",
   "metadata": {},
   "source": [
    "The cell below shows you how to create a visualization with MatPlotLib (the best Python graphing tool!). \n",
    "\n",
    "First, we import matplotlib (line 1), and then we use the syntax plt.'chart_type' to create a chart! In this case, we use 'scatter' for a scatterplot, but there are many other options (hist for histogram, boxplot for a boxplot, etc.). See this link for all the options: https://matplotlib.org/stable/api/_as_gen/matplotlib.pyplot.plot.html\n",
    "\n",
    "You can also change the look of your chart. The 's' argument changes the shape and the 'c' argument changes the colour. Try adding this code chunk below right after ['Family_Income'] and see what happens:\n",
    "\n",
    ",s=2,c='black'"
   ]
  },
  {
   "cell_type": "code",
   "execution_count": 11,
   "id": "c1bdffe1",
   "metadata": {},
   "outputs": [
    {
     "data": {
      "text/plain": [
       "<function matplotlib.pyplot.show(close=None, block=None)>"
      ]
     },
     "execution_count": 11,
     "metadata": {},
     "output_type": "execute_result"
    },
    {
     "data": {
      "image/png": "[encoded data removed]",
      "text/plain": [
       "<Figure size 432x288 with 1 Axes>"
      ]
     },
     "metadata": {
      "needs_background": "light"
     },
     "output_type": "display_data"
    }
   ],
   "source": [
    "import matplotlib.pyplot as plt\n",
    "\n",
    "plt.scatter(df_xl['Grocery_Bill'], df_xl['Family_Income'], s=10, c='blue')\n",
    "\n",
    "plt.show"
   ]
  },
  {
   "cell_type": "markdown",
   "id": "f42b5228",
   "metadata": {},
   "source": [
    "# n1: intro"
   ]
  },
  {
   "cell_type": "markdown",
   "id": "2b4cfa63",
   "metadata": {},
   "source": [
    "Our activities in 860 will focus around data manipulation, visualizations, analysis, and predictive modelling in Python. We will be using the Anaconda Distribution. This particular file is written in what is called Jupyter Notebook. It is a neat tool due to its ability to have both cells for Python code and for text."
   ]
  },
  {
   "cell_type": "markdown",
   "id": "d2ca6cdd",
   "metadata": {},
   "source": [
    "# A Taste of Python"
   ]
  },
  {
   "cell_type": "markdown",
   "id": "32239007",
   "metadata": {},
   "source": [
    "Python is a dynamic, object-oriented programming language which has gained significant popularity in the world of data analysis due to its vast collection of libraries and relatively easy syntax. This is not a programming course so you need not be an expert on Python but it is important to understand a few concepts.\n",
    "\n",
    "You can run the code in each code box by selecting it and pressing **Shift+Enter** on Windows or **CMD+Enter** on OS X. If you double click this cell, you can edit the text in it. Try it!"
   ]
  },
  {
   "cell_type": "markdown",
   "id": "69e358df",
   "metadata": {},
   "source": [
    "## Leaving Comments "
   ]
  },
  {
   "cell_type": "code",
   "execution_count": null,
   "id": "b84caa77",
   "metadata": {},
   "outputs": [],
   "source": [
    "'''\n",
    "This text is commented out, meaning that Python will\n",
    "not attempt to read it. This feature should be used by the \n",
    "programmer to leave notes and document the code they are\n",
    "writing. Text is commented out by putting three apostrophes\n",
    "before and after it.\n",
    "'''\n",
    "\n",
    "#This is an alternative way to leave comments in Python.\n",
    "#Simply precede the text with a hashtag or \"number-sign\".\n",
    "#Note, this method only works for one line.\n",
    "\n",
    "#Only the line below will be executed.\n",
    "\"Hello World\""
   ]
  },
  {
   "cell_type": "markdown",
   "id": "de1c07b9",
   "metadata": {},
   "source": [
    "## Printing Values to the Console"
   ]
  },
  {
   "cell_type": "markdown",
   "id": "8bf2092d",
   "metadata": {},
   "source": [
    "Jupyter has the nice feature that it returns the result of the last line of code entered by the user (if it is not assigned to a variable). But if we wish to produce multiple outputs we need the print statement."
   ]
  },
  {
   "cell_type": "code",
   "execution_count": null,
   "id": "286ec790",
   "metadata": {},
   "outputs": [],
   "source": [
    "print(\"Hello World\")\n",
    "print(\"MMA 860 is a great course!\")\n",
    "\n",
    "#Alternatively, we can set our message equal to a variable and print the variable\n",
    "my_message = \"Go Gael's Go!\"\n",
    "print(my_message)"
   ]
  },
  {
   "cell_type": "markdown",
   "id": "ca219e33",
   "metadata": {},
   "source": [
    "## Strings "
   ]
  },
  {
   "cell_type": "markdown",
   "id": "eb0af27e",
   "metadata": {},
   "source": [
    "Notice that if you remove the quotes in either of the above outputs, you get an error. In order for Python to understand text values, we need to surround the word(s) with quotation marks. This is known as a *string* it is one of the fundamental datatypes in most programming languages. Strings can be *indexed*, meaning that we can reference their characters by providing a numeric index in square brackets. There are several indexable structures that we will deal with in this course."
   ]
  },
  {
   "cell_type": "code",
   "execution_count": null,
   "id": "e39a050b",
   "metadata": {},
   "outputs": [],
   "source": [
    "my_2nd_message = \"Hello World\"\n",
    "\n",
    "#Zero is the first index meaning if we index zero, we get the first character\n",
    "print(my_2nd_message[0])\n",
    "\n",
    "#Which 'l' in Hello World will the below line print to the console, the first, second or third?\n",
    "print(my_2nd_message[3])"
   ]
  },
  {
   "cell_type": "markdown",
   "id": "4591d823",
   "metadata": {},
   "source": [
    "We will spend more time on string manipulation in a later cheat sheet."
   ]
  },
  {
   "cell_type": "markdown",
   "id": "8df62365",
   "metadata": {},
   "source": [
    "## Numerical inputs and Calculation"
   ]
  },
  {
   "cell_type": "markdown",
   "id": "dd0a63ad",
   "metadata": {},
   "source": [
    "Python can actually be used outright as a calculator."
   ]
  },
  {
   "cell_type": "code",
   "execution_count": null,
   "id": "42f1dbec",
   "metadata": {},
   "outputs": [],
   "source": [
    "# Addition\n",
    "print(4+3)\n",
    "\n",
    "#Subtraction\n",
    "print(3-1)\n",
    "\n",
    "#Multiplication\n",
    "print(7*2)\n",
    "\n",
    "#Division\n",
    "print(15/2)\n",
    "\n",
    "#Exponential (2 to the power of 3)\n",
    "print(2**3)"
   ]
  },
  {
   "cell_type": "code",
   "execution_count": null,
   "id": "9c53e9f5",
   "metadata": {},
   "outputs": [],
   "source": [
    "#You can set variables with numbers just like you could with strings\n",
    "chocolate = 4\n",
    "cookie = 7\n",
    "\n",
    "choc_chip = chocolate*cookie\n",
    "print(choc_chip)"
   ]
  },
  {
   "cell_type": "markdown",
   "id": "8f8ac137",
   "metadata": {},
   "source": [
    "## Libraries"
   ]
  },
  {
   "cell_type": "markdown",
   "id": "685ac056",
   "metadata": {},
   "source": [
    "A big benefit of the Anaconda Distribution is the vast collection of libraries it possesses. For this course, the libraries contained within Anaconda will be sufficient. Libraries allow us to accomplish complex tasks without actually understanding their implementations. Let's see how we can import them."
   ]
  },
  {
   "cell_type": "code",
   "execution_count": null,
   "id": "10a5dbc7",
   "metadata": {},
   "outputs": [],
   "source": [
    "# Here, we will import the math library\n",
    "import math"
   ]
  },
  {
   "cell_type": "markdown",
   "id": "d6c42f15",
   "metadata": {},
   "source": [
    "Yes it is that simple! Now we can call functions and get variables from the math function! Let's use the sine function as an example."
   ]
  },
  {
   "cell_type": "code",
   "execution_count": null,
   "id": "bd7ae70c",
   "metadata": {},
   "outputs": [],
   "source": [
    "# Note we must put math in front of sin to run it\n",
    "math.sin(1)"
   ]
  },
  {
   "cell_type": "markdown",
   "id": "ede44e8e",
   "metadata": {},
   "source": [
    "Some libraries, such as the 'os' library, which let's us interact with our Operating System, are very big. They are, as a result broken down into sub-libraries. In these cases, it is best to only import the part of the library that you need as it will lead to quicker execution and smaller memory usage."
   ]
  },
  {
   "cell_type": "code",
   "execution_count": null,
   "id": "23f8e48e",
   "metadata": {},
   "outputs": [],
   "source": [
    "'''\n",
    "Here, I will import the path sub-library from os and shortcut \n",
    "it as osp so i don't need to retype the full name\n",
    "'''\n",
    "import os.path as osp\n",
    "\n",
    "'''\n",
    "This generates a valid file path for a folder named 'Data'\n",
    "that is in the same folder as this notebook. We will be using\n",
    "these functions heavily.\n",
    "'''\n",
    "print(osp.join(osp.curdir,'Data'))"
   ]
  },
  {
   "cell_type": "markdown",
   "id": "66eca395",
   "metadata": {},
   "source": [
    "# Installing Python Packages with Conda and PIP"
   ]
  },
  {
   "cell_type": "markdown",
   "id": "4cb486f8",
   "metadata": {},
   "source": [
    "One of Python's biggest advantages is the wide array of libraries and packages that are online. A significant portion of these are open sourced and can be downloaded for free. You can use Conda or PIP to download many of these. Conda has its own installer and PIP is a package manager for Python. Both are used to download packages so you can import them into Python code."
   ]
  },
  {
   "cell_type": "markdown",
   "id": "07b9cac7",
   "metadata": {},
   "source": [
    "In order to download a package, you need to open the command line (Command Prompt for Windows or Terminal for Mac) and type $\\text{conda install <package-name>}$ or $\\text{pip install <package-name>}$. The following is a command prompt example. I recommend seeing if there's a Conda version before trying pip."
   ]
  },
  {
   "attachments": {
    "Pip%20Install.png": {
     "image/png": "[encoded data removed]"
    }
   },
   "cell_type": "markdown",
   "id": "3df834b1",
   "metadata": {},
   "source": [
    "![Pip%20Install.png](attachment:Pip%20Install.png)"
   ]
  },
  {
   "cell_type": "markdown",
   "id": "3159e931",
   "metadata": {},
   "source": [
    "Find more about pip at this link:\n",
    "\n",
    "https://www.w3schools.com/python/python_pip.asp"
   ]
  },
  {
   "cell_type": "code",
   "execution_count": null,
   "id": "ce4ea4d2",
   "metadata": {},
   "outputs": [],
   "source": []
  },
  {
   "cell_type": "markdown",
   "id": "ed3db9c6",
   "metadata": {},
   "source": [
    "# n2: importing data"
   ]
  },
  {
   "cell_type": "markdown",
   "id": "39dff739",
   "metadata": {},
   "source": [
    "For many of our activities we will import data into Python from Excel or text files.  Naturally, there are many ways to import data into Python from other sources as well. This cheat sheet will focus on Excel/text file imports, and give some direction on other files (e.g., SAS, SPSS, etc.).  To do this, you must know where your data is located, both in terms of the file, its location, and the tab upon which the data is found if it’s in Excel.  For this exercise download the 'MMA_860_Grocery_Data.csv’ file available on the portal under Session 1, and save it to a folder named 'Data' that is in the same directory as this file."
   ]
  },
  {
   "cell_type": "markdown",
   "id": "b1e6b7bc",
   "metadata": {},
   "source": [
    "# Importing CSV Files - Intro to Pandas"
   ]
  },
  {
   "cell_type": "markdown",
   "id": "0481f899",
   "metadata": {},
   "source": [
    "Let’s start with a CSV file – the easiest way to get data into Python as well as most data processing tools. We will be using a library called \"Pandas\" to read in the file. We will use the appropriately named function, $\\text{read_csv}$. This has many arguments, but we will only need the filepath and index_col arguments. First things first, we need to import the library."
   ]
  },
  {
   "cell_type": "code",
   "execution_count": null,
   "id": "402c93b2",
   "metadata": {},
   "outputs": [],
   "source": [
    "#We must first import the Pandas library. We will shortcut it to \"pd\".\n",
    "import pandas as pd\n",
    "\n",
    "# The following code will process the current filepath for the dataset\n",
    "\n",
    "#This imports the necessary libraries\n",
    "import os\n",
    "from os.path import curdir\n",
    "\n",
    "'''\n",
    "The os.path.join function is used to merge strings (text) that correspond to\n",
    "file and directory names together to a viable file path for your Operating\n",
    "System. I printed the result to give more clarity.\n",
    "'''\n",
    "csv_path = os.path.join(curdir,'Data','MMA_860_Grocery_Data.csv')\n",
    "print(csv_path)"
   ]
  },
  {
   "cell_type": "markdown",
   "id": "e02f1b16",
   "metadata": {},
   "source": [
    "Read more about the os.path.join method here:\n",
    "https://www.geeksforgeeks.org/python-os-path-join-method/"
   ]
  },
  {
   "cell_type": "code",
   "execution_count": null,
   "id": "be571c2f",
   "metadata": {},
   "outputs": [],
   "source": [
    "#Passing the appropriate arguments, we can import the data from a csv.\n",
    "df = pd.read_csv(csv_path, header='infer', index_col='Obs')\n",
    "\n",
    "#The head function will output the top 5 rows \n",
    "df.head()"
   ]
  },
  {
   "cell_type": "code",
   "execution_count": null,
   "id": "0070e56f",
   "metadata": {},
   "outputs": [],
   "source": [
    "#Alternatively, you can pass an integer to the function\n",
    "df.head(3)"
   ]
  },
  {
   "cell_type": "markdown",
   "id": "39c85f96",
   "metadata": {},
   "source": [
    "## Notes on Parameters"
   ]
  },
  {
   "cell_type": "markdown",
   "id": "1432654a",
   "metadata": {},
   "source": [
    "1) The first argument of $\\text{read_csv}$ is the file path. You will need to keep it in a folder named \"Data\" that is in the same folder as this file. If you choose to hard code a filepath, you will need to identify where the file is. Note that if you are on Windows, folder structures must be separated by 2 back slashes (\\\\) or one forward slash (/). Mac users can use a single back slash.\n",
    "\n",
    "2)\tThe \"header\" argument is set to 'infer' by default. I’ve included it for reference. This has Python infer whether there are column_names in the CSV. If your data does not include column headers, set this argument to None. In such a case, you can pass the header names to the \"names\" argument.\n",
    "\n",
    "3) The \"index_col\" argument is used to indicate which column is the index or key. Try running the function without setting this parameter and seeing what happens.\n",
    "\n",
    "4) You can find out more about the different possible $\\text{read_csv}$ arguments at the following link:\n",
    "https://pandas.pydata.org/pandas-docs/stable/reference/api/pandas.read_csv.html"
   ]
  },
  {
   "cell_type": "markdown",
   "id": "0dea5b47",
   "metadata": {},
   "source": [
    "The file is imported into a Pandas Dataframe which is assigned to the $\\text{df}$ variable. Any changes or transformations you make to what is assigned to $\\text{df}$ will not be reflected on the original file. We will learn how to write our changes to a file later in the course."
   ]
  },
  {
   "cell_type": "markdown",
   "id": "710de09c",
   "metadata": {},
   "source": [
    "# Importing Excel Files"
   ]
  },
  {
   "cell_type": "markdown",
   "id": "6add2c5b",
   "metadata": {},
   "source": [
    "The next most common file type you will encounter is likely to be Excel files. Fortunately, Pandas has a function called $\\text{read_excel}$ which is very similar, syntatically, to $\\text{read_csv}$. \n",
    "\n",
    "There are a few differences in the optional arguments, such as one for indicating which sheet should be imported. The sheet can be specified by numeric index - 0 is the first sheet, 1 is the second and so on. Alternatively, you can pass the worksheet name."
   ]
  },
  {
   "cell_type": "code",
   "execution_count": null,
   "id": "0bc82acd",
   "metadata": {},
   "outputs": [],
   "source": [
    "'''\n",
    "We repeat the above procedure, substituting the excel file name into the\n",
    "join arguments and using the read_excel function instead.\n",
    "'''\n",
    "xl_path = os.path.join(curdir,'Data',\"MMA_860_Grocery_Data.xlsx\")\n",
    "df_xl = pd.read_excel(xl_path,sheet_name=0,header='infer',index_col=\"Obs\")\n",
    "df_xl.head()"
   ]
  },
  {
   "cell_type": "markdown",
   "id": "28ffa8e6",
   "metadata": {},
   "source": [
    "Similar to above, you can find out more about the $\\text{read_excel}$ function at the following link:\n",
    "\n",
    " https://pandas.pydata.org/pandas-docs/stable/reference/api/pandas.read_excel.html"
   ]
  },
  {
   "cell_type": "markdown",
   "id": "cde947b2",
   "metadata": {},
   "source": [
    "## Some Pandas Tools "
   ]
  },
  {
   "cell_type": "markdown",
   "id": "fcc11b48",
   "metadata": {},
   "source": [
    "Now that we have data imported, let’s use some Pandas tools to understand it a little bit better. We have already used $\\text{df.head()}$ to get a quick preview of our table. Run and discuss the following:"
   ]
  },
  {
   "cell_type": "code",
   "execution_count": null,
   "id": "e118ce2f",
   "metadata": {},
   "outputs": [],
   "source": [
    "df.describe()"
   ]
  },
  {
   "cell_type": "code",
   "execution_count": null,
   "id": "63a84018",
   "metadata": {},
   "outputs": [],
   "source": [
    "df.tail()"
   ]
  },
  {
   "cell_type": "code",
   "execution_count": null,
   "id": "c9f9eb62",
   "metadata": {},
   "outputs": [],
   "source": [
    "df.dtypes"
   ]
  },
  {
   "cell_type": "markdown",
   "id": "9a9b4690",
   "metadata": {},
   "source": [
    "## Other Import Methods"
   ]
  },
  {
   "cell_type": "markdown",
   "id": "eb8e5f60",
   "metadata": {},
   "source": [
    "There are many methods you can use to bring data into pandas from a variety of sources such as SQL tables, HTML, JSON, SAS, and more! If you are viewing this on Jupyter, type in \"pd.read\" in the code cell below and press TAB on your keyboard to see just how many import functions Pandas has."
   ]
  },
  {
   "cell_type": "code",
   "execution_count": null,
   "id": "07dde6d9",
   "metadata": {},
   "outputs": [],
   "source": []
  },
  {
   "cell_type": "markdown",
   "id": "ba847757",
   "metadata": {},
   "source": [
    "# n3: data exploration"
   ]
  },
  {
   "cell_type": "markdown",
   "id": "5aef9f09",
   "metadata": {},
   "source": [
    "For this cheat sheet, we will be working with the Grocery Store data we have imported in the previous workbook. Let's import it here (we can use the same code as from the previous module):"
   ]
  },
  {
   "cell_type": "code",
   "execution_count": null,
   "id": "26cbc0d9",
   "metadata": {},
   "outputs": [],
   "source": [
    "import pandas as pd\n",
    "import os\n",
    "from os.path import curdir\n",
    "\n",
    "# This time we will give our variables more meaningful names.\n",
    "# This significantly improves code readability.\n",
    "grocery_data_path = os.path.join(curdir,'Data','MMA_860_Grocery_Data.csv')\n",
    "grocery_data = pd.read_csv(grocery_data_path, header='infer', index_col='Obs')"
   ]
  },
  {
   "cell_type": "markdown",
   "id": "9b135a94",
   "metadata": {},
   "source": [
    "As a Data Scientist you will find that most of your time is spent on data acquisition and data prep long before you are able to begin modelling. This is a sad truth, but not one worth complaining about. Instead, we are going to learn some Python functions that simplify the data exploration and cleaning portion of the Model Development Cycle. Specifically, let us look into..."
   ]
  },
  {
   "cell_type": "markdown",
   "id": "43069200",
   "metadata": {},
   "source": [
    "# Anaconda Distribution"
   ]
  },
  {
   "cell_type": "markdown",
   "id": "b138d8c1",
   "metadata": {},
   "source": [
    "The Anaconda Distribution comes pre-loaded with many libraries, majority of which are very useful for data analysis and data wrangling. The libraries mentioned above are just a few examples but will be the main focus of this course. See below for a more concise definition of each."
   ]
  },
  {
   "cell_type": "markdown",
   "id": "9cb926b8",
   "metadata": {},
   "source": [
    "**pandas** - An open-sourced library providing a simple interface for data analysis. You have already imported data using this library. I like to think of this library as a command-line version of Microsoft Excel as it shares many of the features."
   ]
  },
  {
   "cell_type": "markdown",
   "id": "1741ac68",
   "metadata": {},
   "source": [
    "**NumPy** - A library used for numerical analysis. Where pandas key purpose is structuring data, filtering columns, and joining tables, NumPy is used for actual computation."
   ]
  },
  {
   "cell_type": "markdown",
   "id": "6754bd6c",
   "metadata": {},
   "source": [
    "**MatPlotLib** - A library used for data visualization. MatPlotLib can be used to generate several plots from given NumPy arrays and Pandas series."
   ]
  },
  {
   "cell_type": "markdown",
   "id": "e56c24e7",
   "metadata": {},
   "source": [
    "**SciPy** - A library used for scientific computation. It has a comprehensive stats library which we will use in this course."
   ]
  },
  {
   "cell_type": "markdown",
   "id": "0a791813",
   "metadata": {},
   "source": [
    "**scikit-learn** - A library used to make machine learning models such as linear regression, logistic regression, and neural networks."
   ]
  },
  {
   "cell_type": "markdown",
   "id": "2ce3de47",
   "metadata": {},
   "source": [
    "These libraries are closely related and there is some overlap with their functions. For example, you are able to generate plots using pandas."
   ]
  },
  {
   "cell_type": "markdown",
   "id": "3e3f2a5c",
   "metadata": {},
   "source": [
    "# A Deeper Dive into Pandas"
   ]
  },
  {
   "cell_type": "markdown",
   "id": "641cec76",
   "metadata": {},
   "source": [
    "## Processing our Input"
   ]
  },
  {
   "cell_type": "markdown",
   "id": "f1d3ac61",
   "metadata": {},
   "source": [
    "We explored some functions at the end of the last notebook related to getting snapshots of our data. I want to call attention to two of these functions: $\\text{describe}$ and $\\text{dtype}$."
   ]
  },
  {
   "cell_type": "code",
   "execution_count": null,
   "id": "6029303e",
   "metadata": {},
   "outputs": [],
   "source": [
    "grocery_data.describe()"
   ]
  },
  {
   "cell_type": "code",
   "execution_count": null,
   "id": "be57f215",
   "metadata": {},
   "outputs": [],
   "source": [
    "grocery_data.dtypes"
   ]
  },
  {
   "cell_type": "markdown",
   "id": "4968040d",
   "metadata": {},
   "source": [
    "If we look at the $\\text{describe}$ output, we will notice that Grocery_Bill and Family_Income were not included. The $\\text{dtypes}$ output tells us why: Pandas thinks these are 'objects' and not 'integers' ($\\text{int64}$ is short for 64-bit integer). This is because our data had a dollar sign infront of it; this must be resolved if we want to do any calculations with these values. The below code performs the required conversion."
   ]
  },
  {
   "cell_type": "code",
   "execution_count": null,
   "id": "a6fe7dee",
   "metadata": {},
   "outputs": [],
   "source": [
    "#First declare a function that removes a dollar sign from a string.\n",
    "def remove_dollar_sign(s):\n",
    "    '''\n",
    "    The Python String replace function can be used to replace any\n",
    "    instances of a substring in a string with another substring.\n",
    "    In this case, we are replacing \"$\" with \"\" (an empty string);\n",
    "    this effectively gets rid of any dollar signs in your string.\n",
    "    '''\n",
    "    return s.replace(\"$\",\"\")\n",
    "\n",
    "'''\n",
    "Now we must apply this function to each value in the 'Grocery_Bill'\n",
    "column. We can index the column of interest like so:\n",
    "'''\n",
    "grocery_data['Grocery_Bill'].head()"
   ]
  },
  {
   "cell_type": "code",
   "execution_count": null,
   "id": "115c75cd",
   "metadata": {},
   "outputs": [],
   "source": [
    "'''\n",
    "Now, to apply a function to all entries in this column, we must\n",
    "use the pandas map function.\n",
    "'''\n",
    "grocery_data['Grocery_Bill'] = grocery_data['Grocery_Bill'].map(\n",
    "    remove_dollar_sign)"
   ]
  },
  {
   "cell_type": "code",
   "execution_count": null,
   "id": "f8fb2d47",
   "metadata": {},
   "outputs": [],
   "source": [
    "'''\n",
    "Although our columns values are now in the proper format, pandas still \n",
    "thinks that this column is filled with strings. We must explicitly tell\n",
    "pandas that this column is filled with floats (decimal numbers). We do\n",
    "this with the 'astype' function.\n",
    "'''\n",
    "grocery_data['Grocery_Bill'] = grocery_data['Grocery_Bill'].astype(\n",
    "    'float64')"
   ]
  },
  {
   "cell_type": "code",
   "execution_count": null,
   "id": "7903285d",
   "metadata": {},
   "outputs": [],
   "source": [
    "'''\n",
    "Family_Income contains a leading dollar sign as well as commas. We must\n",
    "write an additional function to remove the commas. We can reuse the general\n",
    "format from the dollar sign.\n",
    "'''\n",
    "def remove_comma(s):\n",
    "    return s.replace(\",\",\"\")\n",
    "\n",
    "'''\n",
    "Map the functions in the exact same way as in the 'Grocery_Bill' example. Note\n",
    "that we can 'double map' by appending another map function. We then append \n",
    "'astype' and encode the values as integers. Encoding as float64 is also\n",
    "acceptable.\n",
    "'''\n",
    "grocery_data['Family_Income'] = grocery_data['Family_Income'].map(\n",
    "    remove_dollar_sign).map(remove_comma).astype('int64')"
   ]
  },
  {
   "cell_type": "code",
   "execution_count": null,
   "id": "c7520ac6",
   "metadata": {},
   "outputs": [],
   "source": [
    "'''\n",
    "All data is now in a workable dtype and we will be able to perform \n",
    "operations on all the data.\n",
    "'''\n",
    "grocery_data.dtypes"
   ]
  },
  {
   "cell_type": "markdown",
   "id": "06fcf858",
   "metadata": {},
   "source": [
    "## Filtering Data"
   ]
  },
  {
   "cell_type": "markdown",
   "id": "2a08a0a9",
   "metadata": {},
   "source": [
    "Pandas has several useful tools for working with data – filtering, sorting, selecting, modifying, summarizing, and sampling."
   ]
  },
  {
   "cell_type": "markdown",
   "id": "5e731e21",
   "metadata": {},
   "source": [
    "*Filtering* allows you to select certain *rows* of data (i.e., observations). In this dataset, perhaps you are interested in only a subset of observations – let’s say those with no cars, and no kids. I find that the simplest way to filter in Pandas is to index columns directly. This is best explained through an example. Note, that I used the $\\text{head()}$ function to surpress the output to 5 rows; unless otherwise stated, that is its sole purpose. "
   ]
  },
  {
   "cell_type": "code",
   "execution_count": null,
   "id": "665b5d33",
   "metadata": {},
   "outputs": [],
   "source": [
    "'''\n",
    "The following code gives a data series where the\n",
    "value is true in all the corresponding rows where \n",
    "N_Children = 0. I used the head() function to \n",
    "suppress the output to 5 rows. Unless otherwise\n",
    "stated\n",
    "'''\n",
    "grocery_data['N_Children'] == 0).head()"
   ]
  },
  {
   "cell_type": "code",
   "execution_count": null,
   "id": "8feb483c",
   "metadata": {
    "scrolled": true
   },
   "outputs": [],
   "source": [
    "#Applying the above condition as a filter is done like so\n",
    "\n",
    "grocery_data[(grocery_data['N_Children'] == 0)].head()"
   ]
  },
  {
   "cell_type": "markdown",
   "id": "eb1171ee",
   "metadata": {},
   "source": [
    "If we wish to combine multiple conditions, like mentioned above, a boolean 'AND' operator must be used. Our two conditions are $\\text{N_Children} = 0$ and $\\text{N_Vehicles} = 0$."
   ]
  },
  {
   "cell_type": "code",
   "execution_count": null,
   "id": "a7a4add5",
   "metadata": {},
   "outputs": [],
   "source": [
    "filtered_grocery_data = grocery_data[\n",
    "    (grocery_data['N_Children'] == 0) & (grocery_data[\n",
    "        'N_Vehicles'] == 0)]\n",
    "\n",
    "filtered_grocery_data.head()"
   ]
  },
  {
   "cell_type": "markdown",
   "id": "0af46178",
   "metadata": {},
   "source": [
    "## Sorting"
   ]
  },
  {
   "cell_type": "markdown",
   "id": "f9372273",
   "metadata": {},
   "source": [
    "You can also use $\\text{sort_values}$ on the dataframe and present it in a new order. You can sort by as many columns as you’d like. I often think of this as being very similar to Excel’s sort function. In this case, let’s sort Grocery Data to be descending by Grocery_Bill. Print the first 10 rows and observe the order (Hint: you can tell the head command how many rows to print)."
   ]
  },
  {
   "cell_type": "code",
   "execution_count": null,
   "id": "95b6c38d",
   "metadata": {},
   "outputs": [],
   "source": [
    "arranged_grocery_data = grocery_data.sort_values(\n",
    "    'Grocery_Bill', ascending=False)\n",
    "\n",
    "arranged_grocery_data.head()"
   ]
  },
  {
   "cell_type": "markdown",
   "id": "9457aa31",
   "metadata": {},
   "source": [
    "## Selecting and Slicing"
   ]
  },
  {
   "cell_type": "markdown",
   "id": "aa7574d0",
   "metadata": {},
   "source": [
    "Select is used to select certain columns of data (i.e., variables). It works much the same way as Arrange. In this case, let’s select for only grocery bill, family size and family income. You’ll notice we get all the rows (observations) but only the columns we selected. We index the dataframe like so:"
   ]
  },
  {
   "cell_type": "code",
   "execution_count": null,
   "id": "045d9543",
   "metadata": {},
   "outputs": [],
   "source": [
    "selected_grocery_data = grocery_data[\n",
    "    ['Grocery_Bill','Family_Income','Family_Size']]\n",
    "selected_grocery_data.head()"
   ]
  },
  {
   "cell_type": "markdown",
   "id": "4cf46a4e",
   "metadata": {},
   "source": [
    "## More with Pandas"
   ]
  },
  {
   "cell_type": "markdown",
   "id": "337851df",
   "metadata": {},
   "source": [
    "1) Add a new column that contains the percentage of income spent on each grocery purchase. Hint: dataframe.assign will be useful.\n",
    "\n",
    "2) Create a new dataframe named my_test_frame that is a 30% random sample of the original file. \n",
    "\n",
    "3) Summarize the average distance to store\n",
    "\n",
    "\n",
    "**Next, spend some time with the pandas documentation and the current data set:**\n",
    "\n",
    "The Application Programming Interface (API) can be found here: https://pandas.pydata.org/pandas-docs/stable/reference/index.html\n",
    "\n",
    "Do not be discouraged by the volume of functions that exist in this library; the best developers Google basics almost daily so don't worry if you are relying heavily on the reference!"
   ]
  },
  {
   "cell_type": "markdown",
   "id": "9386cf81",
   "metadata": {},
   "source": [
    "## More with Pandas - Solutions "
   ]
  },
  {
   "cell_type": "markdown",
   "id": "07f968d7",
   "metadata": {},
   "source": [
    "### Question 1"
   ]
  },
  {
   "cell_type": "code",
   "execution_count": null,
   "id": "465baeb8",
   "metadata": {},
   "outputs": [],
   "source": [
    "'''\n",
    "Using the assign function, we pass an argument containing the new column name\n",
    "(note it is not defined as a string) and set it equal to the approprate indexed\n",
    "columns divided by each other.\n",
    "'''\n",
    "grocery_data = grocery_data.assign(\n",
    "    Percentage_Income = grocery_data['Grocery_Bill'] \n",
    "    / grocery_data['Family_Income'])\n",
    "\n",
    "grocery_data[['Grocery_Bill','Family_Income','Percentage_Income']].head()"
   ]
  },
  {
   "cell_type": "markdown",
   "id": "3c2755c1",
   "metadata": {},
   "source": [
    "Find out more about the assign function here:\n",
    "\n",
    "https://pandas.pydata.org/pandas-docs/stable/reference/api/pandas.DataFrame.assign.html"
   ]
  },
  {
   "cell_type": "markdown",
   "id": "64df23db",
   "metadata": {},
   "source": [
    "### Question 2"
   ]
  },
  {
   "cell_type": "code",
   "execution_count": null,
   "id": "4c92d888",
   "metadata": {},
   "outputs": [],
   "source": [
    "'''\n",
    "This question can be done with the Pandas 'sample' function using the frac\n",
    "argument to dictate the proportion you want to keep. We then call the shape\n",
    "property on the old and new dataframe to see if the new one is indeed 30% of\n",
    "the size\n",
    "'''\n",
    "\n",
    "my_test_frame = grocery_data.sample(frac = 0.3)\n",
    "my_test_frame.shape[0]/grocery_data.shape[0]"
   ]
  },
  {
   "cell_type": "markdown",
   "id": "514a07da",
   "metadata": {},
   "source": [
    "Find out more about the sample and shape functions at the below links, respectively:\n",
    "\n",
    "https://pandas.pydata.org/pandas-docs/stable/reference/api/pandas.DataFrame.sample.html\n",
    "\n",
    "https://pandas.pydata.org/pandas-docs/stable/reference/api/pandas.DataFrame.shape.html"
   ]
  },
  {
   "cell_type": "markdown",
   "id": "935dc5a3",
   "metadata": {},
   "source": [
    "### Question 3 "
   ]
  },
  {
   "cell_type": "code",
   "execution_count": null,
   "id": "866776be",
   "metadata": {},
   "outputs": [],
   "source": [
    "'''\n",
    "This question can be done by calling the mean function on the Distance_to_Store\n",
    "data series.\n",
    "'''\n",
    "grocery_data['Distance_to_Store'].mean()"
   ]
  },
  {
   "cell_type": "markdown",
   "id": "22b097ce",
   "metadata": {},
   "source": [
    "Find out more about the mean function here:\n",
    "\n",
    "https://pandas.pydata.org/pandas-docs/stable/reference/api/pandas.Series.mean.html"
   ]
  },
  {
   "cell_type": "markdown",
   "id": "8af29a26",
   "metadata": {},
   "source": [
    "# MatPlotLib"
   ]
  },
  {
   "cell_type": "markdown",
   "id": "59fbfde9",
   "metadata": {},
   "source": [
    "MatPlotLib is a Python library used to produce graphs and other data visualizations. In general, a function takes a minimum two arguments: the x axis data, the y axis data. There are also several other optional arguments that dictate how the chart will look. Check out this link for the documentation for the matplotlib scatterplot function:\n",
    "\n",
    "https://matplotlib.org/3.1.1/api/_as_gen/matplotlib.pyplot.scatter.html"
   ]
  },
  {
   "cell_type": "markdown",
   "id": "e02efcc2",
   "metadata": {},
   "source": [
    "Let’s say we are interested in discovering the relationship between grocery spend and family income. How would you represent the data? Try coding it in Python to look like the plot below. What do you notice about the plot? How would you describe the data?"
   ]
  },
  {
   "attachments": {
    "untitled.png": {
     "image/png": "[encoded data removed]"
    }
   },
   "cell_type": "markdown",
   "id": "ef0aeff6",
   "metadata": {},
   "source": [
    "![untitled.png](attachment:untitled.png)"
   ]
  },
  {
   "cell_type": "markdown",
   "id": "2bec1d53",
   "metadata": {},
   "source": [
    "Scroll down when you are ready to see the solution."
   ]
  },
  {
   "cell_type": "code",
   "execution_count": null,
   "id": "4389e174",
   "metadata": {},
   "outputs": [],
   "source": [
    "import matplotlib.pyplot as plt\n",
    "\n",
    "'''\n",
    "The x and y data that are applied in the scatter\n",
    "function are indexed straight from the pandas \n",
    "Dataframe. Additionally, 's' modifies the point\n",
    "size and 'c' modifies the point colour.\n",
    "'''\n",
    "plt.scatter(grocery_data['Grocery_Bill'],\n",
    "    grocery_data['Family_Income'],s=2,c='black')\n",
    "\n",
    "plt.show()"
   ]
  },
  {
   "cell_type": "markdown",
   "id": "72283305",
   "metadata": {},
   "source": [
    "We can make this plot 'fancier' by applying additional properties. Run the below code and spend some time to figure out how it works and what line does what."
   ]
  },
  {
   "cell_type": "code",
   "execution_count": null,
   "id": "49d6dd15",
   "metadata": {},
   "outputs": [],
   "source": [
    "fig = plt.figure()\n",
    "scatter = plt.scatter(\n",
    "    grocery_data['Grocery_Bill'],grocery_data['Family_Income'],\n",
    "    s=1,c=grocery_data['Family_Size'])\n",
    "fig.suptitle('Grocery Bill vs. Family Income')\n",
    "plt.ylabel(\"Family Income\")\n",
    "plt.xlabel(\"Grocery Bill\")\n",
    "#plt.xlim(0,600)\n",
    "#plt.ylim(0,180000)\n",
    "cbar = plt.colorbar(scatter)\n",
    "cbar.ax.set_ylabel('Number of Children')\n",
    "plt.show()"
   ]
  },
  {
   "cell_type": "markdown",
   "id": "218013a1",
   "metadata": {},
   "source": [
    "Hint: If this code isn’t working and you get an error, make sure you have run all the code earlier in the cheat sheet – it’s likely the case that the Grocery Bill and Family Income variables are still ‘objects’. \n",
    "\n",
    "**Also, take a look at some of the awesome visualizations other people make. Many of these are beyond the scope of this course, but are cool.**\n",
    "\n",
    "https://matplotlib.org/gallery/index.html"
   ]
  },
  {
   "cell_type": "markdown",
   "id": "5fe3f068",
   "metadata": {},
   "source": [
    "# Tidying Data - Long and Wide Data Formats "
   ]
  },
  {
   "cell_type": "markdown",
   "id": "e0b1ab1f",
   "metadata": {},
   "source": [
    "Pandas has two functions for tidying data you should be aware of - $\\text{pivot()}$ and $\\text{melt()}$. Both make it easy to create a tidy data set. That is, a dataset that is long and not wide, with all columns representing variables and all rows containing observations.\n",
    "\n",
    "The Grocery Store data set is already tidy, so for this we will need to use a different example. It is easy to create some data using NumPy. In this case, let’s create a dataset with 10 observations of 3 stocks."
   ]
  },
  {
   "cell_type": "code",
   "execution_count": null,
   "id": "f3d39de8",
   "metadata": {},
   "outputs": [],
   "source": [
    "#First we import numpy and assign it to np\n",
    "import numpy as np\n",
    "\n",
    "'''\n",
    "Assign variable to desired dataset size; \n",
    "in all cases this dictates the size of the\n",
    "arrays produced\n",
    "'''\n",
    "data_size = 5\n",
    "\n",
    "#We generate a series column of dates that are one day apart\n",
    "dti = pd.date_range('2018-01-01',periods=data_size, freq = 'd')\n",
    "\n",
    "#Generate 3 numpy arrays with normally distributed numbers\n",
    "#S1: mean of 50, std dev of 10\n",
    "S1 = np.random.normal(size=data_size,loc=50,scale=10)\n",
    "S2 = np.random.normal(size=data_size,loc=10,scale=0.5)\n",
    "S3 = np.random.normal(size=data_size,loc=1,scale=1)"
   ]
  },
  {
   "cell_type": "code",
   "execution_count": null,
   "id": "76c99e1d",
   "metadata": {},
   "outputs": [],
   "source": [
    "#Create a dataframe explicitly using the dataframe function\n",
    "stocks_data = pd.DataFrame({'Date':dti,'Stock 1': S1,\n",
    "              'Stock 2': S2,'Stock 3': S3})\n",
    "stocks_data"
   ]
  },
  {
   "cell_type": "markdown",
   "id": "6c6826e5",
   "metadata": {},
   "source": [
    "Using the melt function, change the structure of the dataset to have each row contain only one specific stock. Then, use the pivot function to bring it back to the original structure. The structure of the code is below:"
   ]
  },
  {
   "cell_type": "markdown",
   "id": "08d063a8",
   "metadata": {},
   "source": [
    "You can find the documentation for the two functions at the following links:\n",
    "\n",
    "https://pandas.pydata.org/pandas-docs/stable/reference/api/pandas.DataFrame.melt.html\n",
    "\n",
    "https://pandas.pydata.org/pandas-docs/stable/reference/api/pandas.DataFrame.pivot.html"
   ]
  },
  {
   "cell_type": "code",
   "execution_count": null,
   "id": "0da4ceff",
   "metadata": {},
   "outputs": [],
   "source": [
    "'''\n",
    "We put the sheet in the long format by applying the\n",
    "melt function and keeping the date variable.\n",
    "'''\n",
    "long = pd.melt(stocks_data,id_vars='Date')\n",
    "long.head()"
   ]
  },
  {
   "cell_type": "code",
   "execution_count": null,
   "id": "bb77221f",
   "metadata": {},
   "outputs": [],
   "source": [
    "'''\n",
    "The pivot function reverts the data into a wide format. We\n",
    "specify that the columns are dictated by the values under\n",
    "the column \"variable\" in the 'long' dataframe and that the\n",
    "values for each variable are stored under the column called\n",
    "'values'.\n",
    "'''\n",
    "long.pivot(index='Date',columns='variable',values='value')"
   ]
  },
  {
   "cell_type": "markdown",
   "id": "158c298c",
   "metadata": {},
   "source": [
    "# String Manipulation"
   ]
  },
  {
   "cell_type": "markdown",
   "id": "75896feb",
   "metadata": {},
   "source": [
    "For dealing with whitespace and occasional strange characters in strings, Python has many built-in useful functions. Often, I find that exported data contains leading spaces or 0s, especially as it relates to customer numbers.\n",
    "\n",
    "For example, Queen’s increased the length of employee/student IDs by one digit – this means that all old IDs will have a leading 0. If you import these IDs as a number, the leading 0 will be dropped. Another example would be strings or numbers with a leading space. Observations with a leading space makes it very difficult to join and even more difficult to use any numerical functions. "
   ]
  },
  {
   "cell_type": "markdown",
   "id": "ff6df7ca",
   "metadata": {},
   "source": [
    "## Trim Operations"
   ]
  },
  {
   "cell_type": "code",
   "execution_count": null,
   "id": "0572302f",
   "metadata": {},
   "outputs": [],
   "source": [
    "'''\n",
    "The function strip will remove all leading\n",
    "and trailing whitespace in a string.\n",
    "'''\n",
    "string = \"    hello   \"\n",
    "print(\"Before:\",string,\"<end>\")\n",
    "print(\"After:\",string.strip(),\"<end>\")"
   ]
  },
  {
   "cell_type": "code",
   "execution_count": null,
   "id": "5c764b06",
   "metadata": {},
   "outputs": [],
   "source": [
    "'''\n",
    "Additionally, lstrip and rstrip will remove\n",
    "only leading or only trailing white space \n",
    "respectively.\n",
    "'''\n",
    "\n",
    "print(\"Before:\", string,\"<end>\")\n",
    "print(\"lstrip:\", string.lstrip(),\"<end>\")\n",
    "print(\"rstrip:\", string.rstrip(),\"<end>\")"
   ]
  },
  {
   "cell_type": "markdown",
   "id": "903e993d",
   "metadata": {},
   "source": [
    "## Padding Operations "
   ]
  },
  {
   "cell_type": "code",
   "execution_count": null,
   "id": "4dda8b4a",
   "metadata": {},
   "outputs": [],
   "source": [
    "'''\n",
    "The functions ljust and rjust can be used to\n",
    "fill the left and right side of the string with\n",
    "some character.\n",
    "'''\n",
    "\n",
    "string = 'padleft'\n",
    "\n",
    "#The first argument is the length of the resulting string\n",
    "#The second argument is the character to be padded\n",
    "print(string.ljust(10,'0'))"
   ]
  },
  {
   "cell_type": "markdown",
   "id": "ef8f835b",
   "metadata": {},
   "source": [
    "Try writing your own code using $\\text{rjust()}$ as it takes very similar arguments. You can start by substituting 'ljust' for 'rjust' in the code above. You can also find additional information on string manipulation in Python here:\n",
    "\n",
    "https://docs.python.org/3/library/stdtypes.html"
   ]
  },
  {
   "cell_type": "markdown",
   "id": "5012ecb3",
   "metadata": {},
   "source": [
    "# Handling Dates"
   ]
  },
  {
   "cell_type": "markdown",
   "id": "d57337ac",
   "metadata": {},
   "source": [
    "Dates are a tricky data type to work with. Incorporate time and it becomes even more complex. Different tools store time in different formats, or in different DMY orders. Some countries have different time formats. Either of these differences can make time data very difficult to use. Pandas can read a variety of time data and manipulate it into a single format.The function $\\text{to_datetime()}$ is useful for converting these to Pandas Dates. By setting the two parameters 'dayfirst' and 'yearfirst' to the appropriate value, you can parse different date formats. Note how the below outputs are all the same."
   ]
  },
  {
   "cell_type": "code",
   "execution_count": null,
   "id": "2c43e524",
   "metadata": {},
   "outputs": [],
   "source": [
    "pd.to_datetime('05/11/2018')"
   ]
  },
  {
   "cell_type": "code",
   "execution_count": null,
   "id": "8203afd7",
   "metadata": {},
   "outputs": [],
   "source": [
    "pd.to_datetime('11/05/2018',dayfirst=True)"
   ]
  },
  {
   "cell_type": "code",
   "execution_count": null,
   "id": "c71fdd26",
   "metadata": {},
   "outputs": [],
   "source": [
    "pd.to_datetime('2018/05/11',yearfirst=True)"
   ]
  },
  {
   "cell_type": "markdown",
   "id": "368c16bc",
   "metadata": {},
   "source": [
    "See the following link for documentation on the function:\n",
    "\n",
    "https://pandas.pydata.org/pandas-docs/stable/reference/api/pandas.to_datetime.html"
   ]
  },
  {
   "cell_type": "markdown",
   "id": "b0727a12",
   "metadata": {},
   "source": [
    "# n5: running a regression"
   ]
  },
  {
   "cell_type": "markdown",
   "id": "310b00c4",
   "metadata": {},
   "source": [
    "We will be running a lot of regressions and related models in this course.  This cheat sheet will show you how to run a regression on the sales data tab of the Class 3 Problem set.  As you will see, aside from some initial challenges with figuring out the command’s syntax, running a regression is generally very easy.  Knowing what to run and what to do with the results – that is much more challenging.\n",
    "\n",
    "We will start this set of Cheat Sheet tasks by building a very simple linear regression model:"
   ]
  },
  {
   "cell_type": "markdown",
   "id": "cb8a3de6",
   "metadata": {},
   "source": [
    "$$\n",
    "\\text{Order_Size} = \\beta_0 + \\beta_1 \\text{Ad_Budget} + \\beta_2 \\text{Dist}\n",
    "$$"
   ]
  },
  {
   "cell_type": "markdown",
   "id": "ef460fe7",
   "metadata": {},
   "source": [
    "## Instructions"
   ]
  },
  {
   "cell_type": "markdown",
   "id": "bfea5d01",
   "metadata": {},
   "source": [
    "**1.\tStart a new project and load the sales data**\n",
    "\n",
    "This data is tab 2 in \"MMA 860 Assessing and Testing Data File v1.0\". "
   ]
  },
  {
   "cell_type": "code",
   "execution_count": 1,
   "id": "f3c948ae",
   "metadata": {},
   "outputs": [
    {
     "data": {
      "text/html": [
       "<div>\n",
       "<style scoped>\n",
       "    .dataframe tbody tr th:only-of-type {\n",
       "        vertical-align: middle;\n",
       "    }\n",
       "\n",
       "    .dataframe tbody tr th {\n",
       "        vertical-align: top;\n",
       "    }\n",
       "\n",
       "    .dataframe thead th {\n",
       "        text-align: right;\n",
       "    }\n",
       "</style>\n",
       "<table border=\"1\" class=\"dataframe\">\n",
       "  <thead>\n",
       "    <tr style=\"text-align: right;\">\n",
       "      <th></th>\n",
       "      <th>Order_Size</th>\n",
       "      <th>Ad_Budget</th>\n",
       "      <th>Male</th>\n",
       "      <th>Distance</th>\n",
       "    </tr>\n",
       "    <tr>\n",
       "      <th>Observation</th>\n",
       "      <th></th>\n",
       "      <th></th>\n",
       "      <th></th>\n",
       "      <th></th>\n",
       "    </tr>\n",
       "  </thead>\n",
       "  <tbody>\n",
       "    <tr>\n",
       "      <th>1</th>\n",
       "      <td>20.77</td>\n",
       "      <td>3975</td>\n",
       "      <td>0</td>\n",
       "      <td>20</td>\n",
       "    </tr>\n",
       "    <tr>\n",
       "      <th>2</th>\n",
       "      <td>49.52</td>\n",
       "      <td>10897</td>\n",
       "      <td>0</td>\n",
       "      <td>5</td>\n",
       "    </tr>\n",
       "    <tr>\n",
       "      <th>3</th>\n",
       "      <td>66.40</td>\n",
       "      <td>15067</td>\n",
       "      <td>0</td>\n",
       "      <td>4</td>\n",
       "    </tr>\n",
       "    <tr>\n",
       "      <th>4</th>\n",
       "      <td>34.43</td>\n",
       "      <td>5898</td>\n",
       "      <td>0</td>\n",
       "      <td>4</td>\n",
       "    </tr>\n",
       "    <tr>\n",
       "      <th>5</th>\n",
       "      <td>98.65</td>\n",
       "      <td>24928</td>\n",
       "      <td>0</td>\n",
       "      <td>11</td>\n",
       "    </tr>\n",
       "  </tbody>\n",
       "</table>\n",
       "</div>"
      ],
      "text/plain": [
       "             Order_Size  Ad_Budget  Male  Distance\n",
       "Observation                                       \n",
       "1                 20.77       3975     0        20\n",
       "2                 49.52      10897     0         5\n",
       "3                 66.40      15067     0         4\n",
       "4                 34.43       5898     0         4\n",
       "5                 98.65      24928     0        11"
      ]
     },
     "execution_count": 1,
     "metadata": {},
     "output_type": "execute_result"
    }
   ],
   "source": [
    "#Import the required libraries\n",
    "import pandas as pd\n",
    "import os.path as osp\n",
    "\n",
    "#Build the path for the data file\n",
    "data_path = osp.join(\n",
    "    osp.curdir,'Data','MMA 860 Assessing and Testing Data File v1.0.xlsx')\n",
    "\n",
    "#Use the read_excel function to pull data from the 'Sales Data' sheet\n",
    "data = pd.read_excel(\n",
    "    data_path,sheet_name='Sales Data',index_col='Observation')\n",
    "data.head()"
   ]
  },
  {
   "cell_type": "markdown",
   "id": "a63f4f0e",
   "metadata": {},
   "source": [
    "**2. Run some summary statistics**\n",
    "\n",
    "As before, running $\\text{dtypes}$ and $\\text{describe()}$ is a good way to get a summary of your dataset."
   ]
  },
  {
   "cell_type": "code",
   "execution_count": 2,
   "id": "7f01b51a",
   "metadata": {},
   "outputs": [
    {
     "data": {
      "text/plain": [
       "Order_Size    float64\n",
       "Ad_Budget       int64\n",
       "Male            int64\n",
       "Distance        int64\n",
       "dtype: object"
      ]
     },
     "execution_count": 2,
     "metadata": {},
     "output_type": "execute_result"
    }
   ],
   "source": [
    "data.dtypes"
   ]
  },
  {
   "cell_type": "code",
   "execution_count": 3,
   "id": "eaa3b7ee",
   "metadata": {},
   "outputs": [
    {
     "data": {
      "text/html": [
       "<div>\n",
       "<style scoped>\n",
       "    .dataframe tbody tr th:only-of-type {\n",
       "        vertical-align: middle;\n",
       "    }\n",
       "\n",
       "    .dataframe tbody tr th {\n",
       "        vertical-align: top;\n",
       "    }\n",
       "\n",
       "    .dataframe thead th {\n",
       "        text-align: right;\n",
       "    }\n",
       "</style>\n",
       "<table border=\"1\" class=\"dataframe\">\n",
       "  <thead>\n",
       "    <tr style=\"text-align: right;\">\n",
       "      <th></th>\n",
       "      <th>Order_Size</th>\n",
       "      <th>Ad_Budget</th>\n",
       "      <th>Male</th>\n",
       "      <th>Distance</th>\n",
       "    </tr>\n",
       "  </thead>\n",
       "  <tbody>\n",
       "    <tr>\n",
       "      <th>count</th>\n",
       "      <td>200.000000</td>\n",
       "      <td>200.000000</td>\n",
       "      <td>200.000000</td>\n",
       "      <td>200.000000</td>\n",
       "    </tr>\n",
       "    <tr>\n",
       "      <th>mean</th>\n",
       "      <td>56.575000</td>\n",
       "      <td>10489.520000</td>\n",
       "      <td>0.280000</td>\n",
       "      <td>8.320000</td>\n",
       "    </tr>\n",
       "    <tr>\n",
       "      <th>std</th>\n",
       "      <td>22.310774</td>\n",
       "      <td>6616.043323</td>\n",
       "      <td>0.450126</td>\n",
       "      <td>4.555366</td>\n",
       "    </tr>\n",
       "    <tr>\n",
       "      <th>min</th>\n",
       "      <td>8.550000</td>\n",
       "      <td>-2883.000000</td>\n",
       "      <td>0.000000</td>\n",
       "      <td>1.000000</td>\n",
       "    </tr>\n",
       "    <tr>\n",
       "      <th>25%</th>\n",
       "      <td>38.712500</td>\n",
       "      <td>5312.750000</td>\n",
       "      <td>0.000000</td>\n",
       "      <td>5.000000</td>\n",
       "    </tr>\n",
       "    <tr>\n",
       "      <th>50%</th>\n",
       "      <td>58.325000</td>\n",
       "      <td>9589.000000</td>\n",
       "      <td>0.000000</td>\n",
       "      <td>7.000000</td>\n",
       "    </tr>\n",
       "    <tr>\n",
       "      <th>75%</th>\n",
       "      <td>71.532500</td>\n",
       "      <td>14443.500000</td>\n",
       "      <td>1.000000</td>\n",
       "      <td>10.000000</td>\n",
       "    </tr>\n",
       "    <tr>\n",
       "      <th>max</th>\n",
       "      <td>135.300000</td>\n",
       "      <td>36039.000000</td>\n",
       "      <td>1.000000</td>\n",
       "      <td>25.000000</td>\n",
       "    </tr>\n",
       "  </tbody>\n",
       "</table>\n",
       "</div>"
      ],
      "text/plain": [
       "       Order_Size     Ad_Budget        Male    Distance\n",
       "count  200.000000    200.000000  200.000000  200.000000\n",
       "mean    56.575000  10489.520000    0.280000    8.320000\n",
       "std     22.310774   6616.043323    0.450126    4.555366\n",
       "min      8.550000  -2883.000000    0.000000    1.000000\n",
       "25%     38.712500   5312.750000    0.000000    5.000000\n",
       "50%     58.325000   9589.000000    0.000000    7.000000\n",
       "75%     71.532500  14443.500000    1.000000   10.000000\n",
       "max    135.300000  36039.000000    1.000000   25.000000"
      ]
     },
     "execution_count": 3,
     "metadata": {},
     "output_type": "execute_result"
    }
   ],
   "source": [
    "data.describe()"
   ]
  },
  {
   "cell_type": "markdown",
   "id": "de8a98ea",
   "metadata": {},
   "source": [
    "**3. Look at the linear regression help file**\n",
    "\n",
    "To create our model, we will use the sci-kit learn library. Referencing the following documentation for linear regression, we can train our model.\n",
    "\n",
    "https://scikit-learn.org/stable/modules/generated/sklearn.linear_model.LinearRegression.html"
   ]
  },
  {
   "cell_type": "code",
   "execution_count": 4,
   "id": "7fb059dc",
   "metadata": {},
   "outputs": [],
   "source": [
    "#Import the required package from sklearn\n",
    "from sklearn.linear_model import LinearRegression\n",
    "\n",
    "'''\n",
    "In order to input data from a pandas dataframe and into a sci-kit function,\n",
    "we need to convert the dataframe series into NumPy Arrays. This can be done\n",
    "with the values function.\n",
    "'''\n",
    "train_X = data[['Ad_Budget','Distance']].values\n",
    "train_y = data['Order_Size'].values\n",
    "\n",
    "'''\n",
    "Fitting data to a regression model requires two arguments, the training X\n",
    "values (independent variables) and the training y values (dependent variables.\n",
    "In general, most fit functions for models follow this format.\n",
    "'''\n",
    "reg = LinearRegression().fit(train_X, train_y)"
   ]
  },
  {
   "cell_type": "markdown",
   "id": "2d09d5a6",
   "metadata": {},
   "source": [
    "You’ve now trained your first predictive model! Before proceeding, explore the link above to look at ways to assess your models performance. Additionally, test out the functions used to print the coefficients."
   ]
  },
  {
   "cell_type": "markdown",
   "id": "f3a303cb",
   "metadata": {},
   "source": [
    "# Assessing a Model"
   ]
  },
  {
   "cell_type": "markdown",
   "id": "7b56a569",
   "metadata": {},
   "source": [
    "I think of model assessment as following this process:\n",
    "\n",
    "1. Does the model have any predictive power? (Check the F-Test)\n",
    "2. Do the variables we have included belong in the model? (Check the T-Tests)\n",
    "3. Have we violated any regression assumptions (Check the plots)\n",
    "4. Is the $R^2$ sufficient for business requirements?"
   ]
  },
  {
   "cell_type": "markdown",
   "id": "d08e463a",
   "metadata": {},
   "source": [
    "$R^2$ is an assessment of model fit – it represents the proportion of variability in $y$ explained by the model. The **Adjusted** $R^2$ adjusts for the number of variables included in a model, and is a better measure of model fit. The following script outputs the $R^2$ of the model:"
   ]
  },
  {
   "cell_type": "code",
   "execution_count": 5,
   "id": "9ad52baf",
   "metadata": {},
   "outputs": [
    {
     "name": "stdout",
     "output_type": "stream",
     "text": [
      "R-Squared: 0.6445539057412384\n"
     ]
    }
   ],
   "source": [
    "print(\"R-Squared:\", reg.score(train_X, train_y))"
   ]
  },
  {
   "cell_type": "markdown",
   "id": "7fba427c",
   "metadata": {},
   "source": [
    "This linear regression model is defined by the three $\\beta$ coefficients seen above - $\\beta_0$ is sometimes called the intercept. The following script produces the coefficients for each variable, which are used to create predictions:"
   ]
  },
  {
   "cell_type": "code",
   "execution_count": 6,
   "id": "af90079b",
   "metadata": {},
   "outputs": [
    {
     "name": "stdout",
     "output_type": "stream",
     "text": [
      "B_0 = 26.898793857580092\n",
      "B_1 = 0.0027146220117421033\n",
      "B_2 = 0.14436589637150016\n"
     ]
    }
   ],
   "source": [
    "'''\n",
    "Computing intercept is trivial. The 'slope' coefficients are outputted as a\n",
    "tuple (consider this analogous to an array or list). We must index the tuple\n",
    "to get the numeric values. The values appear in the tuple in an order that \n",
    "corresponds to the position of the independent variable to which they are the\n",
    "slope of. For example, X_train has Ad_Budget values first then Distance values \n",
    "which results in the order presented below.\n",
    "'''\n",
    "\n",
    "print(\"B_0 =\",reg.intercept_)\n",
    "\n",
    "#Ad_Budget Coefficient\n",
    "print(\"B_1 =\",reg.coef_[0])\n",
    "\n",
    "#Distance Coefficient\n",
    "print(\"B_2 =\",reg.coef_[1])"
   ]
  },
  {
   "cell_type": "markdown",
   "id": "ddf40aa0",
   "metadata": {},
   "source": [
    "The coefficients substitute for beta values in the regression equation. In this example, you would replace $\\beta_0$ with $26.89$, $\\beta_1$ with $0.0027$, and $\\beta_2$ with $.144$. Then, by plugging in the values of any observation, you can produce a point estimate. Using the equation we developed, what is the predicted order size if $\\text{Ad_Budget}$ is $1000$ and $\\text{Dist}$ is $50$? As a bonus, use $\\text{reg.predict()}$ to determine this value."
   ]
  },
  {
   "cell_type": "code",
   "execution_count": 7,
   "id": "687fd216",
   "metadata": {},
   "outputs": [
    {
     "data": {
      "text/plain": [
       "36.8317106878972"
      ]
     },
     "execution_count": 7,
     "metadata": {},
     "output_type": "execute_result"
    }
   ],
   "source": [
    "import numpy as np\n",
    "\n",
    "#The prediction function takes a Numpy array as an argument\n",
    "reg.predict(np.array([1000,50]).reshape(1,-1))[0]"
   ]
  },
  {
   "cell_type": "markdown",
   "id": "d4dbc6f7",
   "metadata": {},
   "source": [
    "The **Joint F-Test** is a formal hypothesis test to assess whether a model has any predictive ability. It tests the null hypothesis that all coefficients are jointly equal to $0$.\n",
    "\n",
    "The **t-tests** are formal hypothesis tests for each variable in the model. Each test assesses whether the coefficient for an individual variable is equal to $0$. "
   ]
  },
  {
   "cell_type": "markdown",
   "id": "a9644427",
   "metadata": {},
   "source": [
    "### Stats Model"
   ]
  },
  {
   "cell_type": "markdown",
   "id": "39e23ac1",
   "metadata": {},
   "source": [
    "For linear regression there is an alternative library that exists called Statsmodel that can be used to do model assessment - yes it is in the Anaconda Distribution. One big advantage to using this library is the great summary that you get which contains the T and F statistics."
   ]
  },
  {
   "cell_type": "code",
   "execution_count": 8,
   "id": "84bc6e11",
   "metadata": {},
   "outputs": [
    {
     "name": "stdout",
     "output_type": "stream",
     "text": [
      "                            OLS Regression Results                            \n",
      "==============================================================================\n",
      "Dep. Variable:             Order_Size   R-squared:                       0.645\n",
      "Model:                            OLS   Adj. R-squared:                  0.641\n",
      "Method:                 Least Squares   F-statistic:                     178.6\n",
      "Date:                Wed, 01 Feb 2023   Prob (F-statistic):           5.64e-45\n",
      "Time:                        11:40:28   Log-Likelihood:                -800.86\n",
      "No. Observations:                 200   AIC:                             1608.\n",
      "Df Residuals:                     197   BIC:                             1618.\n",
      "Df Model:                           2                                         \n",
      "Covariance Type:            nonrobust                                         \n",
      "==============================================================================\n",
      "                 coef    std err          t      P>|t|      [0.025      0.975]\n",
      "------------------------------------------------------------------------------\n",
      "Intercept     26.8988      2.583     10.415      0.000      21.806      31.992\n",
      "Ad_Budget      0.0027      0.000     18.872      0.000       0.002       0.003\n",
      "Distance       0.1444      0.209      0.691      0.490      -0.268       0.556\n",
      "==============================================================================\n",
      "Omnibus:                        6.712   Durbin-Watson:                   1.749\n",
      "Prob(Omnibus):                  0.035   Jarque-Bera (JB):                6.787\n",
      "Skew:                           0.451   Prob(JB):                       0.0336\n",
      "Kurtosis:                       2.980   Cond. No.                     3.39e+04\n",
      "==============================================================================\n",
      "\n",
      "Notes:\n",
      "[1] Standard Errors assume that the covariance matrix of the errors is correctly specified.\n",
      "[2] The condition number is large, 3.39e+04. This might indicate that there are\n",
      "strong multicollinearity or other numerical problems.\n"
     ]
    }
   ],
   "source": [
    "import statsmodels.api as sm\n",
    "from statsmodels.formula.api import ols\n",
    "\n",
    "'''\n",
    "Fitting a model involves passing two arguments to ols: the general formula as\n",
    "a string and the data set used. Remember that the formula's attributes must\n",
    "match the column names in the dataframe. Then the fit() function is run and\n",
    "then summary() can be applied to that model.\n",
    "'''\n",
    "model = ols('Order_Size ~ Ad_Budget + Distance',data).fit()\n",
    "print(model.summary())"
   ]
  },
  {
   "cell_type": "markdown",
   "id": "de7f2c47",
   "metadata": {},
   "source": [
    "## Plotting Regression Models "
   ]
  },
  {
   "cell_type": "markdown",
   "id": "acf86f1e",
   "metadata": {},
   "source": [
    "In the next section, we will come across a measurement known as a **residual**. Residuals are the set of differences between our training data and our model's prediction.\n",
    "\n",
    "A big indicator in the efficacy of the regression model is whether or not the residuals follow a **Normal Distribution**. This would suggest that the errors are due to random error and not some systematic flaw in our model. There are a few plots we can use to check this."
   ]
  },
  {
   "cell_type": "markdown",
   "id": "321905bd",
   "metadata": {},
   "source": [
    "### Residual vs Fitted Values"
   ]
  },
  {
   "cell_type": "markdown",
   "id": "8cf3d8d0",
   "metadata": {},
   "source": [
    "The data plotted here should have no pattern (e.g., parabola, two clusters, cone shaped) and be evenly distributed around $0$ on the y-axis."
   ]
  },
  {
   "cell_type": "code",
   "execution_count": 9,
   "id": "3f37ac6d",
   "metadata": {},
   "outputs": [
    {
     "data": {
      "image/png": "[encoded data removed]",
      "text/plain": [
       "<Figure size 640x480 with 1 Axes>"
      ]
     },
     "metadata": {},
     "output_type": "display_data"
    }
   ],
   "source": [
    "#Residuals calculated by definition above.\n",
    "predicted_y = reg.predict(train_X)\n",
    "#Note we can perform element-wise subtraction between arrays like so\n",
    "residuals = train_y - predicted_y\n",
    "\n",
    "import matplotlib.pyplot as plt\n",
    "plt.scatter(predicted_y,residuals,s=2,c='black')\n",
    "\n",
    "#This line adds the dashed horizontal line\n",
    "plt.hlines(0,min(predicted_y),max(predicted_y),color='red',linestyles='dashed')\n",
    "\n",
    "plt.xlabel(\"Model Prediction\")\n",
    "plt.ylabel(\"Residual\")\n",
    "plt.show()"
   ]
  },
  {
   "cell_type": "markdown",
   "id": "ea0e3c78",
   "metadata": {},
   "source": [
    "We can additionally look at how close the mean of the residuals is to zero."
   ]
  },
  {
   "cell_type": "code",
   "execution_count": null,
   "id": "577f933f",
   "metadata": {},
   "outputs": [],
   "source": [
    "print('Mean of Residuals:',residuals.mean())"
   ]
  },
  {
   "cell_type": "markdown",
   "id": "cf610296",
   "metadata": {},
   "source": [
    "### Normal Q-Q"
   ]
  },
  {
   "cell_type": "markdown",
   "id": "19f8bc21",
   "metadata": {},
   "source": [
    "The Q-Q plot gives insight into **multivariate normality**. The plot should look similar to the one below – the further the points are from the diagonal line, the more likely there are normality problems."
   ]
  },
  {
   "cell_type": "code",
   "execution_count": 10,
   "id": "60b70233",
   "metadata": {},
   "outputs": [
    {
     "data": {
      "image/png": "[encoded data removed]",
      "text/plain": [
       "<Figure size 640x480 with 1 Axes>"
      ]
     },
     "metadata": {},
     "output_type": "display_data"
    }
   ],
   "source": [
    "import scipy.stats as stats\n",
    "\n",
    "'''\n",
    "Boilerplate code for creating a Normal Q-Q plot. The first two lines declare \n",
    "a figure and a subplot. This is an alternate way to output plots which allows \n",
    "for more than one plot per output.\n",
    "'''\n",
    "fig = plt.figure()\n",
    "ax = fig.add_subplot(111)\n",
    "\n",
    "'''\n",
    "Scipy.Stats has a built-in function for generating this type of plot. This \n",
    "function takes three arguments: the measurement being checked (residuals), \n",
    "the distribution we are checking against (normal in this case), and the plot \n",
    "to plot it to.\n",
    "'''\n",
    "stats.probplot(residuals,dist='norm',plot=ax)\n",
    "plt.show()"
   ]
  },
  {
   "cell_type": "markdown",
   "id": "cb09df65",
   "metadata": {},
   "source": [
    "### Scale-Location"
   ]
  },
  {
   "cell_type": "markdown",
   "id": "f3759261",
   "metadata": {},
   "source": [
    "Use this plot to check the assumptions of equal variance in errors (**homoscedasticity**). You want to see a horizontal line with points spread randomly on either side. If there is a clear cone shaped pattern, it is evidence of heteroskedasticity.\n",
    "\n",
    "This plot has the predicted values on the x axis and the square root of the absolute value of the standardized residuals on the y axis. When a set of variables become standardized this means that they are referred to by the number of standard deviations that they lie away from their mean."
   ]
  },
  {
   "cell_type": "code",
   "execution_count": 11,
   "id": "d6a645de",
   "metadata": {},
   "outputs": [
    {
     "data": {
      "image/png": "[encoded data removed]",
      "text/plain": [
       "<Figure size 640x480 with 1 Axes>"
      ]
     },
     "metadata": {},
     "output_type": "display_data"
    }
   ],
   "source": [
    "from sklearn.preprocessing import StandardScaler\n",
    "\n",
    "# First we create an array of normalized residuals using a Scikit function\n",
    "scaler = StandardScaler().fit(residuals.reshape(-1,1))\n",
    "norm_residuals = scaler.transform(residuals.reshape(-1,1))\n",
    "\n",
    "# Plot and take the root and absolute values of the norms\n",
    "plt.scatter(predicted_y,np.sqrt(np.abs(norm_residuals)),c='black',s=2)\n",
    "plt.xlabel(\"Fitted Values\")\n",
    "plt.ylabel(\"Root of standardized residual\")\n",
    "plt.show()"
   ]
  },
  {
   "cell_type": "markdown",
   "id": "36be328c",
   "metadata": {},
   "source": [
    "### Density Plot"
   ]
  },
  {
   "cell_type": "markdown",
   "id": "c6cd22cb",
   "metadata": {},
   "source": [
    "There is one last plot worth observing – the density plot. This is another plot used to check for **normality of errors**. You would like to see a largely normal distribution – any other distinct pattern is indicative of a violation in assumptions. You can view it with the following code:"
   ]
  },
  {
   "cell_type": "code",
   "execution_count": 12,
   "id": "00491cae",
   "metadata": {},
   "outputs": [
    {
     "data": {
      "image/png": "[encoded data removed]",
      "text/plain": [
       "<Figure size 640x480 with 1 Axes>"
      ]
     },
     "metadata": {},
     "output_type": "display_data"
    }
   ],
   "source": [
    "from scipy.stats import norm\n",
    "\n",
    "# Fit a normal distribution to the data:\n",
    "mean, std = norm.fit(residuals)\n",
    "\n",
    "# Plot the histogram.\n",
    "plt.hist(residuals, bins=13, edgecolor='black', density=True)\n",
    "\n",
    "# Generate a PDF based on the fitted distribution\n",
    "xmin, xmax = plt.xlim()\n",
    "x = np.linspace(xmin, xmax, 100)\n",
    "p = norm.pdf(x, mean, std)\n",
    "plt.plot(x, p, color='black')\n",
    "title = \"Fit results: mu = %.2f,  std = %.2f\" % (mean, std)\n",
    "plt.title(title)\n",
    "\n",
    "plt.show()"
   ]
  },
  {
   "cell_type": "markdown",
   "id": "77ce2682",
   "metadata": {},
   "source": [
    "Take this moment to play around with the number of bins in the histogram. Note some observations on what happens if you have too many or too little bins."
   ]
  },
  {
   "cell_type": "markdown",
   "id": "3e0e8fcc",
   "metadata": {},
   "source": [
    "### Residuals vs. Leverage "
   ]
  },
  {
   "cell_type": "markdown",
   "id": "6f433bed",
   "metadata": {},
   "source": [
    "The Cook’s Distance plot helps you identify observations with **high leverage** (i.e., those that greatly influence the regression results). In this plot, the x axis is leverage, the y axis is the Studentized residuals (this is similar to standardized residual) and the size of the points indicates the Cook's Distance. Such a plot can be generated with the $\\text{influence_plot}$ function from the **StatsModel** library. We use the previously trained model in the code below."
   ]
  },
  {
   "cell_type": "code",
   "execution_count": 13,
   "id": "dba19dbd",
   "metadata": {},
   "outputs": [
    {
     "data": {
      "image/png": "[encoded data removed]",
      "text/plain": [
       "<Figure size 1200x800 with 1 Axes>"
      ]
     },
     "metadata": {},
     "output_type": "display_data"
    }
   ],
   "source": [
    "#In a similar fashion to how the QQ plot was built, this plot can be generated.\n",
    "fig, ax = plt.subplots(figsize=(12,8))\n",
    "fig = sm.graphics.influence_plot(model, ax=ax, criterion=\"cooks\")\n",
    "plt.show()"
   ]
  },
  {
   "cell_type": "markdown",
   "id": "23dfee6b",
   "metadata": {},
   "source": [
    "# n6: assessing a regression"
   ]
  },
  {
   "cell_type": "markdown",
   "id": "0e627cab",
   "metadata": {},
   "source": [
    "We will be running a lot of regressions and related models in this course.  This cheat sheet will show you how to run a regression on the sales data tab of the Class 3 Problem set.  As you will see, aside from some initial challenges with figuring out the command’s syntax, running a regression is generally very easy.  Knowing what to run and what to do with the results – that is much more challenging.\n",
    "\n",
    "We will start this set of Cheat Sheet tasks by building a very simple linear regression model:"
   ]
  },
  {
   "cell_type": "markdown",
   "id": "07049c05",
   "metadata": {},
   "source": [
    "$$\n",
    "\\text{Order_Size} = \\beta_0 + \\beta_1 \\text{Ad_Budget} + \\beta_2 \\text{Dist}\n",
    "$$"
   ]
  },
  {
   "cell_type": "markdown",
   "id": "0b271a0a",
   "metadata": {},
   "source": [
    "## Instructions"
   ]
  },
  {
   "cell_type": "markdown",
   "id": "18f977af",
   "metadata": {},
   "source": [
    "**1.\tStart a new project and load the sales data**\n",
    "\n",
    "This data is tab 2 in \"MMA 860 Assessing and Testing Data File v1.0\". "
   ]
  },
  {
   "cell_type": "code",
   "execution_count": null,
   "id": "6928b385",
   "metadata": {},
   "outputs": [],
   "source": [
    "#Import the required libraries\n",
    "import pandas as pd\n",
    "import os.path as osp\n",
    "\n",
    "#Build the path for the data file\n",
    "data_path = osp.join(\n",
    "    osp.curdir,'Data','MMA 860 Assessing and Testing Data File v1.0.xlsx')\n",
    "\n",
    "#Use the read_excel function to pull data from the 'Sales Data' sheet\n",
    "data = pd.read_excel(\n",
    "    data_path,sheet_name='Sales Data',index_col='Observation')\n",
    "data.head()"
   ]
  },
  {
   "cell_type": "markdown",
   "id": "8b36a740",
   "metadata": {},
   "source": [
    "**2. Run some summary statistics**\n",
    "\n",
    "As before, running $\\text{dtypes}$ and $\\text{describe()}$ is a good way to get a summary of your dataset."
   ]
  },
  {
   "cell_type": "code",
   "execution_count": null,
   "id": "b35c1aa4",
   "metadata": {},
   "outputs": [],
   "source": [
    "data.dtypes"
   ]
  },
  {
   "cell_type": "code",
   "execution_count": null,
   "id": "024d9dec",
   "metadata": {},
   "outputs": [],
   "source": [
    "data.describe()"
   ]
  },
  {
   "cell_type": "markdown",
   "id": "712d43ea",
   "metadata": {},
   "source": [
    "**3. Look at the linear regression help file**\n",
    "\n",
    "To create our model, we will use the sci-kit learn library. Referencing the following documentation for linear regression, we can train our model.\n",
    "\n",
    "https://scikit-learn.org/stable/modules/generated/sklearn.linear_model.LinearRegression.html"
   ]
  },
  {
   "cell_type": "code",
   "execution_count": null,
   "id": "0c7ac839",
   "metadata": {},
   "outputs": [],
   "source": [
    "#Import the required package from sklearn\n",
    "from sklearn.linear_model import LinearRegression\n",
    "\n",
    "'''\n",
    "In order to input data from a pandas dataframe and into a sci-kit function,\n",
    "we need to convert the dataframe series into NumPy Arrays. This can be done\n",
    "with the values function.\n",
    "'''\n",
    "train_X = data[['Ad_Budget','Distance']].values\n",
    "train_y = data['Order_Size'].values\n",
    "\n",
    "'''\n",
    "Fitting data to a regression model requires two arguments, the training X\n",
    "values (independent variables) and the training y values (dependent variables.\n",
    "In general, most fit functions for models follow this format.\n",
    "'''\n",
    "reg = LinearRegression().fit(train_X, train_y)"
   ]
  },
  {
   "cell_type": "markdown",
   "id": "6075b2e3",
   "metadata": {},
   "source": [
    "You’ve now trained your first predictive model! Before proceeding, explore the link above to look at ways to assess your models performance. Additionally, test out the functions used to print the coefficients."
   ]
  },
  {
   "cell_type": "markdown",
   "id": "3deaf3f7",
   "metadata": {},
   "source": [
    "# Assessing a Model"
   ]
  },
  {
   "cell_type": "markdown",
   "id": "87d4ab29",
   "metadata": {},
   "source": [
    "I think of model assessment as following this process:\n",
    "\n",
    "1. Does the model have any predictive power? (Check the F-Test)\n",
    "2. Do the variables we have included belong in the model? (Check the T-Tests)\n",
    "3. Have we violated any regression assumptions (Check the plots)\n",
    "4. Is the $R^2$ sufficient for business requirements?"
   ]
  },
  {
   "cell_type": "markdown",
   "id": "3da193b8",
   "metadata": {},
   "source": [
    "$R^2$ is an assessment of model fit – it represents the proportion of variability in $y$ explained by the model. The **Adjusted** $R^2$ adjusts for the number of variables included in a model, and is a better measure of model fit. The following script outputs the $R^2$ of the model:"
   ]
  },
  {
   "cell_type": "code",
   "execution_count": null,
   "id": "8f645e6f",
   "metadata": {},
   "outputs": [],
   "source": [
    "print(\"R-Squared:\", reg.score(train_X, train_y))"
   ]
  },
  {
   "cell_type": "markdown",
   "id": "3dd22fc9",
   "metadata": {},
   "source": [
    "This linear regression model is defined by the three $\\beta$ coefficients seen above - $\\beta_0$ is sometimes called the intercept. The following script produces the coefficients for each variable, which are used to create predictions:"
   ]
  },
  {
   "cell_type": "code",
   "execution_count": null,
   "id": "4aeda208",
   "metadata": {},
   "outputs": [],
   "source": [
    "'''\n",
    "Computing intercept is trivial. The 'slope' coefficients are outputted as a\n",
    "tuple (consider this analogous to an array or list). We must index the tuple\n",
    "to get the numeric values. The values appear in the tuple in an order that \n",
    "corresponds to the position of the independent variable to which they are the\n",
    "slope of. For example, X_train has Ad_Budget values first then Distance values \n",
    "which results in the order presented below.\n",
    "'''\n",
    "\n",
    "print(\"B_0 =\",reg.intercept_)\n",
    "\n",
    "#Ad_Budget Coefficient\n",
    "print(\"B_1 =\",reg.coef_[0])\n",
    "\n",
    "#Distance Coefficient\n",
    "print(\"B_2 =\",reg.coef_[1])"
   ]
  },
  {
   "cell_type": "markdown",
   "id": "074deaaa",
   "metadata": {},
   "source": [
    "The coefficients substitute for beta values in the regression equation. In this example, you would replace $\\beta_0$ with $26.89$, $\\beta_1$ with $0.0027$, and $\\beta_2$ with $.144$. Then, by plugging in the values of any observation, you can produce a point estimate. Using the equation we developed, what is the predicted order size if $\\text{Ad_Budget}$ is $1000$ and $\\text{Dist}$ is $50$? As a bonus, use $\\text{reg.predict()}$ to determine this value."
   ]
  },
  {
   "cell_type": "code",
   "execution_count": null,
   "id": "f6d036d4",
   "metadata": {},
   "outputs": [],
   "source": [
    "import numpy as np\n",
    "\n",
    "#The prediction function takes a Numpy array as an argument\n",
    "reg.predict(np.array([1000,50]).reshape(1,-1))[0]"
   ]
  },
  {
   "cell_type": "markdown",
   "id": "d6d02d68",
   "metadata": {},
   "source": [
    "The **Joint F-Test** is a formal hypothesis test to assess whether a model has any predictive ability. It tests the null hypothesis that all coefficients are jointly equal to $0$.\n",
    "\n",
    "The **t-tests** are formal hypothesis tests for each variable in the model. Each test assesses whether the coefficient for an individual variable is equal to $0$. "
   ]
  },
  {
   "cell_type": "markdown",
   "id": "16be515b",
   "metadata": {},
   "source": [
    "### Stats Model"
   ]
  },
  {
   "cell_type": "markdown",
   "id": "5ee3cced",
   "metadata": {},
   "source": [
    "For linear regression there is an alternative library that exists called Statsmodel that can be used to do model assessment - yes it is in the Anaconda Distribution. One big advantage to using this library is the great summary that you get which contains the T and F statistics."
   ]
  },
  {
   "cell_type": "code",
   "execution_count": null,
   "id": "299c04c7",
   "metadata": {},
   "outputs": [],
   "source": [
    "import statsmodels.api as sm\n",
    "from statsmodels.formula.api import ols\n",
    "\n",
    "'''\n",
    "Fitting a model involves passing two arguments to ols: the general formula as\n",
    "a string and the data set used. Remember that the formula's attributes must\n",
    "match the column names in the dataframe. Then the fit() function is run and\n",
    "then summary() can be applied to that model.\n",
    "'''\n",
    "model = ols('Order_Size ~ Ad_Budget + Distance',data).fit()\n",
    "print(model.summary())"
   ]
  },
  {
   "cell_type": "markdown",
   "id": "7e646954",
   "metadata": {},
   "source": [
    "## Plotting Regression Models "
   ]
  },
  {
   "cell_type": "markdown",
   "id": "0905fa93",
   "metadata": {},
   "source": [
    "In the next section, we will come across a measurement known as a **residual**. Residuals are the set of differences between our training data and our model's prediction.\n",
    "\n",
    "A big indicator in the efficacy of the regression model is whether or not the residuals follow a **Normal Distribution**. This would suggest that the errors are due to random error and not some systematic flaw in our model. There are a few plots we can use to check this."
   ]
  },
  {
   "cell_type": "markdown",
   "id": "520cdd89",
   "metadata": {},
   "source": [
    "### Residual vs Fitted Values"
   ]
  },
  {
   "cell_type": "markdown",
   "id": "71ac4a68",
   "metadata": {},
   "source": [
    "The data plotted here should have no pattern (e.g., parabola, two clusters, cone shaped) and be evenly distributed around $0$ on the y-axis."
   ]
  },
  {
   "cell_type": "code",
   "execution_count": null,
   "id": "4338dda0",
   "metadata": {},
   "outputs": [],
   "source": [
    "#Residuals calculated by definition above.\n",
    "predicted_y = reg.predict(train_X)\n",
    "#Note we can perform element-wise subtraction between arrays like so\n",
    "residuals = train_y - predicted_y\n",
    "\n",
    "import matplotlib.pyplot as plt\n",
    "plt.scatter(predicted_y,residuals,s=2,c='black')\n",
    "\n",
    "#This line adds the dashed horizontal line\n",
    "plt.hlines(0,min(predicted_y),max(predicted_y),color='red',linestyles='dashed')\n",
    "\n",
    "plt.xlabel(\"Model Prediction\")\n",
    "plt.ylabel(\"Residual\")\n",
    "plt.show()"
   ]
  },
  {
   "cell_type": "markdown",
   "id": "29d92a12",
   "metadata": {},
   "source": [
    "We can additionally look at how close the mean of the residuals is to zero."
   ]
  },
  {
   "cell_type": "code",
   "execution_count": null,
   "id": "8148f384",
   "metadata": {},
   "outputs": [],
   "source": [
    "print('Mean of Residuals:',residuals.mean())"
   ]
  },
  {
   "cell_type": "markdown",
   "id": "5e576802",
   "metadata": {},
   "source": [
    "### Normal Q-Q"
   ]
  },
  {
   "cell_type": "markdown",
   "id": "96a247fc",
   "metadata": {},
   "source": [
    "The Q-Q plot gives insight into **multivariate normality**. The plot should look similar to the one below – the further the points are from the diagonal line, the more likely there are normality problems."
   ]
  },
  {
   "cell_type": "code",
   "execution_count": null,
   "id": "cc01b566",
   "metadata": {},
   "outputs": [],
   "source": [
    "import scipy.stats as stats\n",
    "\n",
    "'''\n",
    "Boilerplate code for creating a Normal Q-Q plot. The first two lines declare \n",
    "a figure and a subplot. This is an alternate way to output plots which allows \n",
    "for more than one plot per output.\n",
    "'''\n",
    "fig = plt.figure()\n",
    "ax = fig.add_subplot(111)\n",
    "\n",
    "'''\n",
    "Scipy.Stats has a built-in function for generating this type of plot. This \n",
    "function takes three arguments: the measurement being checked (residuals), \n",
    "the distribution we are checking against (normal in this case), and the plot \n",
    "to plot it to.\n",
    "'''\n",
    "stats.probplot(residuals,dist='norm',plot=ax)\n",
    "plt.show()"
   ]
  },
  {
   "cell_type": "markdown",
   "id": "93e45f85",
   "metadata": {},
   "source": [
    "### Scale-Location"
   ]
  },
  {
   "cell_type": "markdown",
   "id": "288f6c4c",
   "metadata": {},
   "source": [
    "Use this plot to check the assumptions of equal variance in errors (**homoscedasticity**). You want to see a horizontal line with points spread randomly on either side. If there is a clear cone shaped pattern, it is evidence of heteroskedasticity.\n",
    "\n",
    "This plot has the predicted values on the x axis and the square root of the absolute value of the standardized residuals on the y axis. When a set of variables become standardized this means that they are referred to by the number of standard deviations that they lie away from their mean."
   ]
  },
  {
   "cell_type": "code",
   "execution_count": null,
   "id": "5a107ede",
   "metadata": {},
   "outputs": [],
   "source": [
    "from sklearn.preprocessing import StandardScaler\n",
    "\n",
    "# First we create an array of normalized residuals using a Scikit function\n",
    "scaler = StandardScaler().fit(residuals.reshape(-1,1))\n",
    "norm_residuals = scaler.transform(residuals.reshape(-1,1))\n",
    "\n",
    "# Plot and take the root and absolute values of the norms\n",
    "plt.scatter(predicted_y,np.sqrt(np.abs(norm_residuals)),c='black',s=2)\n",
    "plt.xlabel(\"Fitted Values\")\n",
    "plt.ylabel(\"Root of standardized residual\")\n",
    "plt.show()"
   ]
  },
  {
   "cell_type": "markdown",
   "id": "c0ad35b4",
   "metadata": {},
   "source": [
    "### Density Plot"
   ]
  },
  {
   "cell_type": "markdown",
   "id": "390cf194",
   "metadata": {},
   "source": [
    "There is one last plot worth observing – the density plot. This is another plot used to check for **normality of errors**. You would like to see a largely normal distribution – any other distinct pattern is indicative of a violation in assumptions. You can view it with the following code:"
   ]
  },
  {
   "cell_type": "code",
   "execution_count": null,
   "id": "4c8dd3a1",
   "metadata": {},
   "outputs": [],
   "source": [
    "from scipy.stats import norm\n",
    "\n",
    "# Fit a normal distribution to the data:\n",
    "mean, std = norm.fit(residuals)\n",
    "\n",
    "# Plot the histogram.\n",
    "plt.hist(residuals, bins=13, edgecolor='black', density=True)\n",
    "\n",
    "# Generate a PDF based on the fitted distribution\n",
    "xmin, xmax = plt.xlim()\n",
    "x = np.linspace(xmin, xmax, 100)\n",
    "p = norm.pdf(x, mean, std)\n",
    "plt.plot(x, p, color='black')\n",
    "title = \"Fit results: mu = %.2f,  std = %.2f\" % (mean, std)\n",
    "plt.title(title)\n",
    "\n",
    "plt.show()"
   ]
  },
  {
   "cell_type": "markdown",
   "id": "23e880a5",
   "metadata": {},
   "source": [
    "Take this moment to play around with the number of bins in the histogram. Note some observations on what happens if you have too many or too little bins."
   ]
  },
  {
   "cell_type": "markdown",
   "id": "311a1b95",
   "metadata": {},
   "source": [
    "### Residuals vs. Leverage "
   ]
  },
  {
   "cell_type": "markdown",
   "id": "4ffab29a",
   "metadata": {},
   "source": [
    "The Cook’s Distance plot helps you identify observations with **high leverage** (i.e., those that greatly influence the regression results). In this plot, the x axis is leverage, the y axis is the Studentized residuals (this is similar to standardized residual) and the size of the points indicates the Cook's Distance. Such a plot can be generated with the $\\text{influence_plot}$ function from the **StatsModel** library. We use the previously trained model in the code below."
   ]
  },
  {
   "cell_type": "code",
   "execution_count": null,
   "id": "8075d654",
   "metadata": {},
   "outputs": [],
   "source": [
    "#In a similar fashion to how the QQ plot was built, this plot can be generated.\n",
    "fig, ax = plt.subplots(figsize=(12,8))\n",
    "fig = sm.graphics.influence_plot(model, ax=ax, criterion=\"cooks\")\n",
    "plt.show()"
   ]
  },
  {
   "cell_type": "markdown",
   "id": "80cc05e4",
   "metadata": {},
   "source": [
    "# n7: impute data"
   ]
  },
  {
   "cell_type": "markdown",
   "id": "236c5aac",
   "metadata": {},
   "source": [
    "This cheat sheet is intended to show you how to do a basic imputation using the Cheat_Sheet_Missing_Data_V2_0 dataset.  \n",
    "Missing observations are a common problem with data sets.  As we discussed in class, there are a number of ways to deal with this theoretically, depending on the process that gives rise to missing observations.\n",
    "\n",
    "Thankfully, statsmodel has a useful function which we can use to perform Multiple Imputation by Chained Equations (MICE). "
   ]
  },
  {
   "cell_type": "markdown",
   "id": "8424e782",
   "metadata": {},
   "source": [
    "# Importing Our Data and Running a Regression"
   ]
  },
  {
   "cell_type": "code",
   "execution_count": null,
   "id": "ba451a8a",
   "metadata": {},
   "outputs": [],
   "source": [
    "#First we import our data from the appropriate file\n",
    "import pandas as pd\n",
    "import os.path as osp\n",
    "import numpy as np\n",
    "data_path = osp.join(osp.curdir,'Data','Cheat_Sheet_Missing_Data_V2_0.xlsx')\n",
    "data = pd.read_excel(data_path,sheet_name=0)\n",
    "# Drop Obs column\n",
    "data = data.drop(columns = 'Obs')\n",
    "#Note that Family_Income has only 977 values where all the rest have 1000\n",
    "data.info()"
   ]
  },
  {
   "cell_type": "code",
   "execution_count": null,
   "id": "cc4c5364",
   "metadata": {},
   "outputs": [],
   "source": [
    "# View the null Family_Income rows\n",
    "data[(pd.isnull(data.Family_Income))]"
   ]
  },
  {
   "cell_type": "code",
   "execution_count": null,
   "id": "fbc9b1a6",
   "metadata": {},
   "outputs": [],
   "source": [
    "# We will run a regression with all fields except Family_Size\n",
    "frmla = 'Grocery_Bill ~ N_Adults + Family_Income + N_Vehicles + ' + \\\n",
    "    'Distance_to_Store + Vegetarian + N_Children + Family_Pet'"
   ]
  },
  {
   "cell_type": "code",
   "execution_count": null,
   "id": "47248f61",
   "metadata": {},
   "outputs": [],
   "source": [
    "#Train and view our model\n",
    "from statsmodels.formula.api import ols\n",
    "results = ols(frmla,data).fit()\n",
    "results.summary()"
   ]
  },
  {
   "cell_type": "markdown",
   "id": "6d5ed851",
   "metadata": {},
   "source": [
    "# Performing MICE\n",
    "\n",
    "*Depending on your version of Anaconda, you may get a notification about a function in MICE being depreciated. This means that that function may not work in a future Python update.*"
   ]
  },
  {
   "cell_type": "markdown",
   "id": "b6a813f5",
   "metadata": {},
   "source": [
    "The following snippet of code performs the imputation on the dataset."
   ]
  },
  {
   "cell_type": "code",
   "execution_count": null,
   "id": "b981887d",
   "metadata": {},
   "outputs": [],
   "source": [
    "#Import the required libraries\n",
    "import statsmodels.imputation.mice as mice\n",
    "import statsmodels.regression.linear_model as sm\n",
    "\n",
    "#Impute the data set with MICE Data\n",
    "imp = mice.MICEData(data)\n",
    "imputed_data = imp.next_sample()\n",
    "\n",
    "#Merge the imputed data with the blank data\n",
    "merge_data = pd.merge(imputed_data,data,left_index=True,right_index=True)\n",
    "merge_data = merge_data[['Family_Income_x','Family_Income_y']]\n",
    "#Family_Income_x are the imputed values\n",
    "merge_data[(pd.isnull(merge_data.Family_Income_y))]"
   ]
  },
  {
   "cell_type": "markdown",
   "id": "c67a910b",
   "metadata": {},
   "source": [
    "Selecting a single imputation is not the best way to use imputed data for predictive modelling. Instead, you want to use all the imputed data sets and pool the results. To do this, you need to run a regression on all 5 imputed data sets, and then pool the regression results. This can be done by setting the $\\text{n_imputations}$ argument."
   ]
  },
  {
   "cell_type": "code",
   "execution_count": null,
   "id": "9b83db2d",
   "metadata": {},
   "outputs": [],
   "source": [
    "mice = mice.MICE(frmla, sm.OLS, imp)\n",
    "results = mice.fit(n_imputations=5)\n",
    "print(results.summary())"
   ]
  },
  {
   "cell_type": "markdown",
   "id": "1f20beed",
   "metadata": {},
   "source": [
    "## Interpreting Results\n",
    "\n",
    "You can interpret these regression results as you normally would. \n",
    "If you are interested in learning more about MICE and multiple imputation, this is an excellent paper:\n",
    "https://www.jstatsoft.org/article/view/v045i03\n"
   ]
  },
  {
   "cell_type": "markdown",
   "id": "f1019007",
   "metadata": {},
   "source": [
    "## Summary\n",
    "\n",
    "Here is how an imputation works, step by step:\n",
    "\n",
    "  1) We set the number of imputations we want. If we set m = 5, mice creates 5 exact copies of the original dataset\n",
    "  \n",
    "  2) Then, in the background, a regression model is built to predict the missing data (in this case, Family Income) using all the other variables available\n",
    "  \n",
    "  3) For each of the five datasets, we use the model just created to predict the missing values. In each of the datasets, the error term of the regression is randomized. This means that each of the 5 data sets will have different imputed values!\n",
    "  \n",
    "  4) We then run statistical tests on all of the 5 data sets, and pool the results together for a more robust answer\n"
   ]
  },
  {
   "cell_type": "markdown",
   "id": "610a6378",
   "metadata": {},
   "source": [
    "## Little's Test"
   ]
  },
  {
   "cell_type": "markdown",
   "id": "8831c2ab",
   "metadata": {},
   "source": [
    "There is a formal test for determining whether data is MAR or MCAR – Little’s test. You can use the test by installing the impyute package."
   ]
  },
  {
   "cell_type": "code",
   "execution_count": null,
   "id": "d13525df",
   "metadata": {},
   "outputs": [],
   "source": []
  },
  {
   "cell_type": "markdown",
   "id": "95f29a3b",
   "metadata": {},
   "source": [
    "# n8: hypothesis and wald test"
   ]
  },
  {
   "cell_type": "markdown",
   "id": "2a86ed97",
   "metadata": {},
   "source": [
    "Hypothesis testing is one of the most common applications in statistical analysis.  We construct hypotheses in attempt to provide evidence in order to justify an action or change a belief.  We do this by forming an opinion we are prepared to believe in the absence of data and attempt to find evidence that would support changing that opinion.  \n",
    "\n",
    "For example, we might consider launching a new product, but we would only do so if there were sufficient demand.  We would assume there was not sufficient demand and then look for evidence that there was.  If we found sufficient evidence, we would conclude that it was worth launching the new product; if we did not, we would conclude that there was not sufficient evidence to justify launching the new product.  \n",
    "\n",
    "**Hypothesis tests can be simple or complicated; they can have multiple simultaneous components.  Python makes it simple to run either type!**"
   ]
  },
  {
   "cell_type": "markdown",
   "id": "7413af33",
   "metadata": {},
   "source": [
    "# Import data and run regression\n",
    "\n",
    "The data can be found in the structural change data tab in the Cheat_Sheet_Hypothesis_Testing_V1_0 spreadsheet."
   ]
  },
  {
   "cell_type": "code",
   "execution_count": null,
   "id": "5060cc74",
   "metadata": {},
   "outputs": [],
   "source": [
    "#Import the required libraries\n",
    "import pandas as pd\n",
    "import os.path as osp\n",
    "import statsmodels.api as sm\n",
    "from statsmodels.formula.api import ols\n",
    "\n",
    "#Build the path for the data file\n",
    "data_path = osp.join(\n",
    "    osp.curdir,'Data','Cheat_Sheet_Hypothesis_Testing_V1_0.xlsx')\n",
    "\n",
    "#Use the read_excel function to pull data from the Hypothesis Testing Sheet\n",
    "data = pd.read_excel(\n",
    "    data_path,sheet_name=0,index_col='Obs')\n",
    "\n",
    "#Build our model using statsmodels\n",
    "model = ols('Y ~ X1 + X2 + X3 + X4 + X5',data).fit()\n",
    "model.summary()"
   ]
  },
  {
   "cell_type": "markdown",
   "id": "12b662ca",
   "metadata": {},
   "source": [
    "# Performing Hypothesis Testing using the Wald Test"
   ]
  },
  {
   "cell_type": "markdown",
   "id": "23abc80d",
   "metadata": {},
   "source": [
    "Using the following arguments, we will test and see whether $X_1$, $X_2$, and $X_3$ have a coefficient of zero in front of them. In other words, we are testing the correllation."
   ]
  },
  {
   "cell_type": "code",
   "execution_count": null,
   "id": "5c70c80d",
   "metadata": {},
   "outputs": [],
   "source": [
    "'''\n",
    "We put our null hypothesis in the following string format. Here we are going\n",
    "to test whether X1, X2, and X3 have a 0 coefficient in front of them.\n",
    "'''\n",
    "hypothesis = '(X1=0,X2=0,X3=0)'"
   ]
  },
  {
   "cell_type": "code",
   "execution_count": null,
   "id": "e02684b0",
   "metadata": {},
   "outputs": [],
   "source": [
    "#Pass the hypothesis to the Wald_Test\n",
    "print(model.wald_test(hypothesis))"
   ]
  },
  {
   "cell_type": "markdown",
   "id": "927755b6",
   "metadata": {},
   "source": [
    "The p-value above is what we are concerned with the most. You should have gotten a value of 8.27306050734528e-14 (the 'e' here means $\\times 10 \\text{ to the power of}$). For example, 8.27e-14 is $8.27\\times 10^{-14}$ (very small!). If our p-value is less than $0.05$, which it clearly is here, then we **reject the null hypothesis**. This tells us that there is, to great confidence, some correllation between the three parameters and our $Y$ value. Let's try another example where we test the correllation of just $X_1$ and $X_5$."
   ]
  },
  {
   "cell_type": "code",
   "execution_count": null,
   "id": "edcfbb8a",
   "metadata": {},
   "outputs": [],
   "source": [
    "hypothesis_2 = '(X1=0,X5=0)'\n",
    "print(model.wald_test(hypothesis_2))"
   ]
  },
  {
   "cell_type": "markdown",
   "id": "3fab21f6",
   "metadata": {},
   "source": [
    "Here, our p-value is much higher, about $0.09$. This p-value is not less than $0.05$, so in this case, we **do not reject the null hypothesis**. Note, this does not mean that we have confirmed $X_1$ and $X_5$ are not correllated with our $Y$ value, we simply found that there is not enough evidence to suggest that they are."
   ]
  },
  {
   "cell_type": "markdown",
   "id": "0cfeece8",
   "metadata": {},
   "source": [
    "# General Notes"
   ]
  },
  {
   "cell_type": "markdown",
   "id": "1a1beb92",
   "metadata": {},
   "source": [
    "- All of these restrictions are tested simultaneously as part of the null hypothesis.\n",
    "- You can test many null hypotheses using the linearHypothesis command.\n",
    "- There are other tests (for heteroskedasticity, specification error, etc.) that cannot be tested using this approach."
   ]
  },
  {
   "cell_type": "markdown",
   "id": "c9ab3c1d",
   "metadata": {},
   "source": [
    "# n9: chow test"
   ]
  },
  {
   "cell_type": "markdown",
   "id": "ddc97237",
   "metadata": {},
   "source": [
    "Chow tests are not a different form of test so much as a method of implementing a test that allows one to understand if:\n",
    " - Structural change has taken place over time.\n",
    " - Differences exist between subgroups within a population.\n",
    " \n",
    "For example, one could test whether the effectiveness of advertising budgets have changed over time or if US and Canadian markets behave the differently.\n",
    "\n",
    "If it turns out that two data sets behave the same, it is normally better to combine the observations to estimate one set of parameters.  If they do not, then you typically need to allow for two or more sets of relationships.  Finally, once you understand the basics of running a chow test manually, you could do a modified version where only a subset of relationships are suspected to have changed.\n",
    "\n",
    "Chow tests involve testing multiple variables simultaneously and often require the generation of new dummy and compound variables (i.e. dummy times continuous like the ever popular Male_Ad_Budget example) to implement manually.  \n"
   ]
  },
  {
   "cell_type": "markdown",
   "id": "0ea53fab",
   "metadata": {},
   "source": [
    "# Task"
   ]
  },
  {
   "cell_type": "markdown",
   "id": "9a6d2476",
   "metadata": {},
   "source": [
    "In this case we will use data in the workbook *Cheat_Sheet_Chow_Test_V1_0*.  We will interpret the observation as capturing the week when the observation was recorded and we will determine whether the relationship between $y$ and $x_1$, $x_2$, and $x_3$ has changed at week 50 in the model:\n",
    "\n",
    "$$y = B_0 + B_1 x_1 + B_2 x_2+ B_3 x_3$$"
   ]
  },
  {
   "cell_type": "markdown",
   "id": "ec682eb8",
   "metadata": {},
   "source": [
    "## Import the data into Pandas\n",
    "\n",
    "The data can be found in the *Structural_Change_Data* or *Modified_Structural_Change_Data* tab in the *Cheat_Sheet_Chow_Test_V1_0*.  If you use the *Modified_ Structural_Change_Data* you will not need to use queries to do recoding as is shown in step 3 below.  You should learn to do the queries yourself, as the exam may not be as kind. "
   ]
  },
  {
   "cell_type": "code",
   "execution_count": null,
   "id": "5bb65a66",
   "metadata": {},
   "outputs": [],
   "source": [
    "import pandas as pd\n",
    "import os.path as osp\n",
    "\n",
    "data_path = osp.join(\n",
    "    osp.curdir,'Data','Cheat_Sheet_Chow_Test_V1_0.xlsx')\n",
    "\n",
    "data = pd.read_excel(\n",
    "    data_path,sheet_name='Structural_Change_Data')\n",
    "data.head()"
   ]
  },
  {
   "cell_type": "markdown",
   "id": "be939c72",
   "metadata": {},
   "source": [
    "## Run the Regression\n",
    "Perform a quick assessment of the results.  Does anything stand out as unusual?"
   ]
  },
  {
   "cell_type": "code",
   "execution_count": null,
   "id": "6c40e57f",
   "metadata": {},
   "outputs": [],
   "source": [
    "from statsmodels.formula.api import ols\n",
    "model = ols('Y ~ X1 + X2 + X3',data).fit()\n",
    "model.summary()"
   ]
  },
  {
   "cell_type": "code",
   "execution_count": null,
   "id": "4a348277",
   "metadata": {},
   "outputs": [],
   "source": [
    "initial_hypothesis = ('X1=0,X2=0,X3=0')\n",
    "model.wald_test(initial_hypothesis)"
   ]
  },
  {
   "cell_type": "markdown",
   "id": "25a53972",
   "metadata": {},
   "source": [
    "## Write a query\n",
    "Create variants of X1..X3 called C1..C3 that are 0 for obs less than or equal to 50 and their respective values for obs 51 and beyond.  You will have to create a C0 variable that is 0 for observations 1 through 50 and 1 for the rest using similar logic. To do this you can use the Numpy *where* function. You will do this for each of C1 through C3.  \n"
   ]
  },
  {
   "cell_type": "code",
   "execution_count": null,
   "id": "9a65aa7e",
   "metadata": {},
   "outputs": [],
   "source": [
    "import numpy as np\n",
    "\n",
    "'''\n",
    "We use the where function to set values in C0 as 0 where 'Obs' is less than\n",
    "or equal to 50 and 1 otherwise.\n",
    "'''\n",
    "data['C0'] = np.where(data['Obs'] <= 50, 0, 1)\n",
    "\n",
    "'''\n",
    "Here we accomplish the same thing for C1...C3. The for loop allows us to\n",
    "bypass writing the same function 3 times. This doesn't save much work here\n",
    "but would in cases where you have a large amount of parameters.\n",
    "'''\n",
    "for i in range (1,4):\n",
    "    data['C' + str(i)] = np.where(data['Obs'] <= 50, 0, data['X' + str(i)])\n",
    "data.head()"
   ]
  },
  {
   "cell_type": "code",
   "execution_count": null,
   "id": "78867dc0",
   "metadata": {},
   "outputs": [],
   "source": [
    "#Note the transition here where Obs is 51\n",
    "data[47:53]"
   ]
  },
  {
   "cell_type": "code",
   "execution_count": null,
   "id": "f93ae57a",
   "metadata": {},
   "outputs": [],
   "source": [
    "data.tail()"
   ]
  },
  {
   "cell_type": "markdown",
   "id": "587c2109",
   "metadata": {},
   "source": [
    "## Running the Regression on the Query"
   ]
  },
  {
   "cell_type": "code",
   "execution_count": null,
   "id": "e2d6a9bf",
   "metadata": {},
   "outputs": [],
   "source": [
    "#Running a regression using all parameters\n",
    "new_model = ols('Y ~ X1 + X2 + X3 + C0 + C1 + C2 + C3',data).fit()\n",
    "new_model.summary()"
   ]
  },
  {
   "cell_type": "markdown",
   "id": "2082a3f2",
   "metadata": {},
   "source": [
    "# Performing a Hypothesis Test"
   ]
  },
  {
   "cell_type": "code",
   "execution_count": null,
   "id": "9422d31c",
   "metadata": {},
   "outputs": [],
   "source": [
    "#Now run the chow test which is just a specific joint hypothesis test!\n",
    "hypothesis = '(C0=0,C1=0,C2=0,C3=0)'\n",
    "new_model.wald_test(hypothesis)"
   ]
  },
  {
   "cell_type": "markdown",
   "id": "69768638",
   "metadata": {},
   "source": [
    "Your output should contain the null hypothesis, the unrestricted model, and the statistics we care about.  The P-value should be very low.  \n",
    " - What does this mean?  \n",
    " - How does this compare with the individual t-test results?\n"
   ]
  },
  {
   "cell_type": "markdown",
   "id": "32b9c2eb",
   "metadata": {},
   "source": [
    "# n10: heteroskedasticity"
   ]
  },
  {
   "cell_type": "markdown",
   "id": "da5f72de",
   "metadata": {},
   "source": [
    "One of the standard assumptions in regression models is that the error term is identically and independently distributed. One common violation of this assumption occurs when there is heteroskedasticity, which means that the error term has a variance that follows a pattern.\n",
    "\n",
    "Typically, the amount of variability in the error term either increases or decreases with one or more variables, though more complex functions are possible too. For example, the variability of a return on a stock portfolio might depend on the number of stocks in that portfolio.\n",
    "\n",
    "The possibility of heteroskedasticity should be considered in most contexts. It can be tested for using a variety of tests. If heteroskedasticity does exist, its presence does not bias results, but it does make estimates less efficient (i.e. accurate) and it invalidates standard inferences (i.e. hypothesis testing and confidence interval calculation). The latter issue can be addressed by using a simple correction called the HCCME; the former requires a more sophisticated fix called **Generalized Least Squares (GLS)** if the form of heteroskedasticity is known or Feasible Generalized Least Squares if it is not. Neither form of GLS are in scope for this course.\n",
    "\n",
    "This cheat sheet will focus on the testing for heteroskedasticity and correcting the problem of inferences in the presence of heteroskedasticity. "
   ]
  },
  {
   "cell_type": "markdown",
   "id": "39e2ad7c",
   "metadata": {},
   "source": [
    "# Tasks"
   ]
  },
  {
   "cell_type": "markdown",
   "id": "7e39f604",
   "metadata": {},
   "source": [
    "## Import the data into Python and train the model\n",
    "\n",
    "The data can be found in the $\\text{MMA 860 Assessing and Testing Data File v1.0}$ spreadsheet on its own worksheet."
   ]
  },
  {
   "cell_type": "code",
   "execution_count": null,
   "id": "9b620677",
   "metadata": {},
   "outputs": [],
   "source": [
    "import os.path as osp\n",
    "import pandas as pd\n",
    "from sklearn.linear_model import LinearRegression"
   ]
  },
  {
   "cell_type": "code",
   "execution_count": null,
   "id": "55a20bc4",
   "metadata": {},
   "outputs": [],
   "source": [
    "path = osp.join(\n",
    "    osp.curdir,'Data',\"MMA 860 Assessing and Testing Data File v1.0.xlsx\")\n",
    "data = pd.read_excel(path,sheet_name='Heteroskedasticity',index_col = 'Obs')\n",
    "data.head()"
   ]
  },
  {
   "cell_type": "code",
   "execution_count": null,
   "id": "2015bf58",
   "metadata": {},
   "outputs": [],
   "source": [
    "X_train = data[['X1','X2']].values\n",
    "y_train = data[['Y']].values"
   ]
  },
  {
   "cell_type": "code",
   "execution_count": null,
   "id": "fe76399e",
   "metadata": {},
   "outputs": [],
   "source": [
    "reg = LinearRegression().fit(X_train,y_train)"
   ]
  },
  {
   "cell_type": "markdown",
   "id": "de62a408",
   "metadata": {},
   "source": [
    "# Revisiting the Scale Location Plot\n",
    "\n",
    "Examine the plot of the error term. You should see a fairly obvious example of heteroskedasticity similar to that shown in the chart below."
   ]
  },
  {
   "cell_type": "code",
   "execution_count": null,
   "id": "32671027",
   "metadata": {},
   "outputs": [],
   "source": [
    "residuals = y_train - reg.predict(X_train)"
   ]
  },
  {
   "cell_type": "code",
   "execution_count": null,
   "id": "45030d42",
   "metadata": {},
   "outputs": [],
   "source": [
    "%matplotlib inline\n",
    "import matplotlib.pyplot as plt\n",
    "from sklearn.preprocessing import StandardScaler\n",
    "import numpy as np\n",
    "\n",
    "# First we create an array of normalized residuals using a Scikit function\n",
    "scaler = StandardScaler().fit(residuals.reshape(-1,1))\n",
    "norm_residuals = scaler.transform(residuals.reshape(-1,1))\n",
    "\n",
    "# Plot and take the root and absolute values of the norms\n",
    "plt.scatter(reg.predict(X_train),norm_residuals,c='black',s=2)\n",
    "plt.xlabel(\"Fitted Values\")\n",
    "plt.ylabel(\"Standardized Residuals\")\n",
    "plt.show()"
   ]
  },
  {
   "cell_type": "markdown",
   "id": "cb1fe0a9",
   "metadata": {},
   "source": [
    "You can see here that as the predicted value of Y increases, the variance of the residual also increases. By producing a ‘residuals by regressor’ plot by you can gain more insight into where the heteroskedasticity originates."
   ]
  },
  {
   "cell_type": "code",
   "execution_count": null,
   "id": "c6175a9a",
   "metadata": {},
   "outputs": [],
   "source": [
    "'''\n",
    "To turn the X_train into the proper shape, we use the transpose function\n",
    "on the array and index the correct vector of information.\n",
    "'''\n",
    "plt.scatter(X_train.transpose()[0],residuals,c='black',s=2)\n",
    "plt.title(\"X1\")\n",
    "plt.show()"
   ]
  },
  {
   "cell_type": "code",
   "execution_count": null,
   "id": "08611c4f",
   "metadata": {},
   "outputs": [],
   "source": [
    "plt.scatter(X_train.transpose()[1],residuals,c='black',s=2)\n",
    "plt.title(\"X2\")\n",
    "plt.show()"
   ]
  },
  {
   "cell_type": "markdown",
   "id": "8891f327",
   "metadata": {},
   "source": [
    "## The Breusch-Pagan Test \n",
    "\n",
    "There are several tests for heteroskedasticity, notably one by **Breusch-Pagan**. The Breusch-Pagan test is specifically for heteroskedasticity, however there exist other specification tests (notably, **White**) that test for broader specification errors. You can run the Breusch-Pagan test using the StatsModel library\n",
    "\n",
    "The results of the Breusch-Pagan test will be a tuple of 4 values. The ones we are concerned about are the p-values. If either are less than $0.05$ then the model is found to be heteroskedastic."
   ]
  },
  {
   "cell_type": "code",
   "execution_count": null,
   "id": "7e753541",
   "metadata": {},
   "outputs": [],
   "source": [
    "#Import the relevant libraries and train the model\n",
    "from statsmodels.formula.api import ols\n",
    "from statsmodels.stats.diagnostic import het_breuschpagan\n",
    "results = ols('Y ~ X1 + X2',data).fit()\n",
    "\n",
    "#Perform the Breuch-Pagan Test by running this line\n",
    "bp = het_breuschpagan(results.resid,results.model.exog)\n",
    "measures = ('LM Statistic', 'LM-Test p-value', 'F-Statistic', 'F-Test p-value')\n",
    "print(dict(zip(measures,bp)))"
   ]
  },
  {
   "cell_type": "markdown",
   "id": "c09db0c6",
   "metadata": {},
   "source": [
    "## The HCCME (Heteroskedasticity Consistent Covariance Matrix Estimator) Method\n",
    "\n",
    "If specification problems are detected, you can correct the inferences in the regression by using the HCCME method. This corrects the covariance matrix in the background to fix our hypothesis tests. There is a statsmodels function that allows us to do this."
   ]
  },
  {
   "cell_type": "code",
   "execution_count": null,
   "id": "ea5e734e",
   "metadata": {},
   "outputs": [],
   "source": [
    "'''\n",
    "Below, we apply the mentioned function. It takes one argument, the HCCME\n",
    "version. Typically HC3 is preferred, but HC2 can be used if your data \n",
    "has greater than 250 observations.\n",
    "'''\n",
    "corrected_model = results.get_robustcov_results(cov_type = 'HC3')\n",
    "corrected_model.summary()"
   ]
  },
  {
   "cell_type": "markdown",
   "id": "a9861e96",
   "metadata": {},
   "source": [
    "This produces heteroskedasticity-consistent inferences and tests in the same way a regular regression does. It will also use the corrected covariance matrix for any test statements used on the model."
   ]
  },
  {
   "cell_type": "code",
   "execution_count": null,
   "id": "729900ad",
   "metadata": {},
   "outputs": [],
   "source": []
  },
  {
   "cell_type": "markdown",
   "id": "b75bd951",
   "metadata": {},
   "source": [
    "# n11: predicting data"
   ]
  },
  {
   "cell_type": "markdown",
   "id": "7c4f99d3",
   "metadata": {},
   "source": [
    "We will use the Grocery Store data again, however this time we will break it into ‘Train’ and ‘Test’ pieces. Test & train is a technique used to validate against overfitting, and to test how your model might perform in the real world. It is also good practice for using a regression to predict point estimates for an entire data set.\n",
    "\n",
    "**An aside**: when doing AI/ML modelling, you often use three data sets: Train, Test, and Validation. In this case, the model is built on the train data, tested the first time on test data, and then the hyperparameters (hidden layers) are set using the validation data set. \n"
   ]
  },
  {
   "cell_type": "markdown",
   "id": "8c793aa5",
   "metadata": {},
   "source": [
    "# Tasks"
   ]
  },
  {
   "cell_type": "markdown",
   "id": "9db42f59",
   "metadata": {},
   "source": [
    "## Create test and train data sets"
   ]
  },
  {
   "cell_type": "code",
   "execution_count": null,
   "id": "db2a03b9",
   "metadata": {},
   "outputs": [],
   "source": [
    "#Import Grocery Data\n",
    "\n",
    "import pandas as pd\n",
    "import os\n",
    "from os.path import curdir\n",
    "path = os.path.join(curdir,'Data',\"MMA_860_Grocery_Data.xlsx\")\n",
    "data = pd.read_excel(path,sheet_name=0,header='infer',index_col=\"Obs\")\n",
    "data.info()"
   ]
  },
  {
   "cell_type": "code",
   "execution_count": null,
   "id": "fa4bdcec",
   "metadata": {},
   "outputs": [],
   "source": [
    "#Set X to be all values except Grocery_Bill and vice-versa for y\n",
    "X = data.drop(columns=['Grocery_Bill']).values\n",
    "y = data['Grocery_Bill'].values"
   ]
  },
  {
   "cell_type": "markdown",
   "id": "e79d0f84",
   "metadata": {},
   "source": [
    "Depending on the size of your dataset you can evaluate how large a test set is practical. The larger the dataset, the larger your test data can be. In this case, we will use 30% for testing, and 70% for training. This is probably a good rule of thumb. Create these datasets under the names ‘test’ and ‘train’.\n",
    "\n",
    "Note: there are three important things to keep in mind:\n",
    "1. Test and train sets must be mutually exclusive (i.e., no overlapping data)\n",
    "2. Test and train sets must contain the same pattern of data (i.e., you should same randomly)\n",
    "3. If you have time series data, you should always test on the most recent data\n",
    "\n",
    "To sample randomly without replacement, you could use the following code. It will take a 70% train sample and a 30% test sample:"
   ]
  },
  {
   "cell_type": "code",
   "execution_count": null,
   "id": "33858c48",
   "metadata": {},
   "outputs": [],
   "source": [
    "'''\n",
    "Scikit learn has a built-in function for splitting data into training \n",
    "and testing datasets. Here we specify the X array, y array and train_size.\n",
    "Setting a random_state makes our results reproducible.\n",
    "'''\n",
    "from sklearn.model_selection import train_test_split\n",
    "X_train, X_test, y_train, y_test = train_test_split(\n",
    "    X,y,train_size=0.7,random_state=0)"
   ]
  },
  {
   "cell_type": "code",
   "execution_count": null,
   "id": "46b248f3",
   "metadata": {},
   "outputs": [],
   "source": [
    "# Train our model and assess it against training data\n",
    "from sklearn.linear_model import LinearRegression\n",
    "reg = LinearRegression().fit(X_train, y_train)"
   ]
  },
  {
   "cell_type": "markdown",
   "id": "f88cc7bc",
   "metadata": {},
   "source": [
    "## Predict Values"
   ]
  },
  {
   "cell_type": "markdown",
   "id": "ab950fab",
   "metadata": {},
   "source": [
    "The ‘predict’ function in Scikit allows you to use the linear regression model to predict values (in this case, the grocery bill). You can choose the dataset on which you would like to predict. The resulting array will contain the predicted values. The code looks like this:"
   ]
  },
  {
   "cell_type": "code",
   "execution_count": null,
   "id": "f37f81d5",
   "metadata": {},
   "outputs": [],
   "source": [
    "#I have suppressed the output to the first 5 numbers only\n",
    "#For the whole array, remove the appended '[0:5]'\n",
    "print(reg.predict(X_test)[0:5])"
   ]
  },
  {
   "cell_type": "markdown",
   "id": "aaca1ef0",
   "metadata": {},
   "source": [
    "## Calculate Statistics"
   ]
  },
  {
   "cell_type": "markdown",
   "id": "bc41d009",
   "metadata": {},
   "source": [
    "For test & train comparisons, you will now have to calculate some of the statistics we use to validate model accuracy: the $R^2$ for test data, RMSE (Root Mean Squared Error), and MAE (Mean Absolute Error). To calculate these we will need to import some additional functions from sklearn."
   ]
  },
  {
   "cell_type": "code",
   "execution_count": null,
   "id": "af2ddd21",
   "metadata": {},
   "outputs": [],
   "source": [
    "from sklearn.metrics import mean_squared_error\n",
    "from sklearn.metrics import mean_absolute_error\n",
    "from numpy import sqrt"
   ]
  },
  {
   "cell_type": "markdown",
   "id": "b78200aa",
   "metadata": {},
   "source": [
    "### Train Data"
   ]
  },
  {
   "cell_type": "code",
   "execution_count": null,
   "id": "b33ebd1e",
   "metadata": {},
   "outputs": [],
   "source": [
    "print(\"R^2:\",reg.score(X_train,y_train))\n",
    "print(\"Root Mean Squared Error:\",sqrt(\n",
    "    mean_squared_error(y_train,reg.predict(X_train))))\n",
    "print(\"Mean Absolute Error:\",mean_absolute_error(\n",
    "    y_train,reg.predict(X_train)))"
   ]
  },
  {
   "cell_type": "markdown",
   "id": "c738990a",
   "metadata": {},
   "source": [
    "### Test Data "
   ]
  },
  {
   "cell_type": "code",
   "execution_count": null,
   "id": "47b8fc30",
   "metadata": {},
   "outputs": [],
   "source": [
    "print(\"R^2:\",reg.score(X_test,y_test))\n",
    "print(\"Root Mean Squared Error:\",sqrt(\n",
    "    mean_squared_error(y_test,reg.predict(X_test))))\n",
    "print(\"Mean Absolute Error:\",mean_absolute_error(\n",
    "    y_test,reg.predict(X_test)))"
   ]
  },
  {
   "cell_type": "markdown",
   "id": "e669e46c",
   "metadata": {},
   "source": [
    "We can compare our $R^2$ values and RMSEs directly. RMSE tends to be a more reliable measure of fit, especially when you would like to penalize large errors. Usually, we expect our model to perform worse on the test set. In this case, model performance is very similar – this is a good thing! "
   ]
  },
  {
   "cell_type": "code",
   "execution_count": null,
   "id": "ed67c12b",
   "metadata": {},
   "outputs": [],
   "source": []
  }
 ],
 "metadata": {
  "kernelspec": {
   "display_name": "Python 3 (ipykernel)",
   "language": "python",
   "name": "python3"
  },
  "language_info": {
   "codemirror_mode": {
    "name": "ipython",
    "version": 3
   },
   "file_extension": ".py",
   "mimetype": "text/x-python",
   "name": "python",
   "nbconvert_exporter": "python",
   "pygments_lexer": "ipython3",
   "version": "3.9.7"
  }
 },
 "nbformat": 4,
 "nbformat_minor": 5
}
